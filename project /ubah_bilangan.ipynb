{
 "cells": [
  {
   "cell_type": "code",
   "execution_count": 4,
   "id": "86d6347e-0cab-4b7c-b953-7c454a6496eb",
   "metadata": {},
   "outputs": [],
   "source": [
    "def desimal_to_biner(n):\n",
    "    return bin(n)\n",
    "def desimal_to_oktal(n):\n",
    "    return oct(n)\n",
    "def desimal_to_hexadesimal(n):\n",
    "    return hex(n)\n",
    "    "
   ]
  },
  {
   "cell_type": "code",
   "execution_count": null,
   "id": "801d01a5-918e-461c-8fe3-873e2c976b8f",
   "metadata": {},
   "outputs": [],
   "source": []
  }
 ],
 "metadata": {
  "kernelspec": {
   "display_name": "Python [conda env:base] *",
   "language": "python",
   "name": "conda-base-py"
  },
  "language_info": {
   "codemirror_mode": {
    "name": "ipython",
    "version": 3
   },
   "file_extension": ".py",
   "mimetype": "text/x-python",
   "name": "python",
   "nbconvert_exporter": "python",
   "pygments_lexer": "ipython3",
   "version": "3.12.7"
  }
 },
 "nbformat": 4,
 "nbformat_minor": 5
}
