{
 "cells": [
  {
   "cell_type": "code",
   "execution_count": null,
   "id": "651a25ad-6398-4549-96eb-5c89328d734a",
   "metadata": {},
   "outputs": [
    {
     "name": "stdout",
     "output_type": "stream",
     "text": [
      "\n",
      "=== Menu Utama ===\n",
      "1. Aritmatika\n",
      "2. Konversi\n",
      "3. Ubah Bilangan\n",
      "4. Keluar\n"
     ]
    },
    {
     "name": "stdin",
     "output_type": "stream",
     "text": [
      "Pilih menu:  1\n"
     ]
    },
    {
     "name": "stdout",
     "output_type": "stream",
     "text": [
      "\n",
      "--- Menu Aritmatika ---\n",
      "1. Penjumlahan\n",
      "2. Perpangkatan\n",
      "3. Perkalian\n"
     ]
    },
    {
     "name": "stdin",
     "output_type": "stream",
     "text": [
      "Pilih operasi:  1\n",
      "Masukkan bilangan pertama:  1\n",
      "Masukkan bilangan kedua:  2\n"
     ]
    },
    {
     "name": "stdout",
     "output_type": "stream",
     "text": [
      "Hasil: 3.0\n",
      "\n",
      "=== Menu Utama ===\n",
      "1. Aritmatika\n",
      "2. Konversi\n",
      "3. Ubah Bilangan\n",
      "4. Keluar\n"
     ]
    },
    {
     "name": "stdin",
     "output_type": "stream",
     "text": [
      "Pilih menu:  2\n"
     ]
    },
    {
     "name": "stdout",
     "output_type": "stream",
     "text": [
      "\n",
      "--- Menu Konversi ---\n",
      "1. CM to M\n",
      "2. M to CM\n"
     ]
    },
    {
     "name": "stdin",
     "output_type": "stream",
     "text": [
      "Pilih konversi:  1\n",
      "Masukkan nilai:  12\n"
     ]
    },
    {
     "name": "stdout",
     "output_type": "stream",
     "text": [
      "Hasil: 0.12 meter\n",
      "\n",
      "=== Menu Utama ===\n",
      "1. Aritmatika\n",
      "2. Konversi\n",
      "3. Ubah Bilangan\n",
      "4. Keluar\n"
     ]
    },
    {
     "name": "stdin",
     "output_type": "stream",
     "text": [
      "Pilih menu:  1\n"
     ]
    },
    {
     "name": "stdout",
     "output_type": "stream",
     "text": [
      "\n",
      "--- Menu Aritmatika ---\n",
      "1. Penjumlahan\n",
      "2. Perpangkatan\n",
      "3. Perkalian\n"
     ]
    },
    {
     "name": "stdin",
     "output_type": "stream",
     "text": [
      "Pilih operasi:  2\n",
      "Masukkan bilangan pertama:  2\n",
      "Masukkan bilangan kedua:  1\n"
     ]
    },
    {
     "name": "stdout",
     "output_type": "stream",
     "text": [
      "Hasil: 2.0\n",
      "\n",
      "=== Menu Utama ===\n",
      "1. Aritmatika\n",
      "2. Konversi\n",
      "3. Ubah Bilangan\n",
      "4. Keluar\n"
     ]
    }
   ],
   "source": [
    "def penjumlahan(a, b):\n",
    "    return a + b\n",
    "\n",
    "def perpangkatan(a, b):\n",
    "    \n",
    "    return a ** b\n",
    "\n",
    "def perkalian(a, b):\n",
    "    return a * b\n",
    "\n",
    "def cm_to_m(nilai):\n",
    "    return nilai / 100\n",
    "\n",
    "def m_to_cm(nilai):\n",
    "    return nilai * 100\n",
    "\n",
    "def desimal_to_biner(nilai):\n",
    "    return bin(nilai)\n",
    "\n",
    "def desimal_to_oktal(nilai):\n",
    "    return oct(nilai)\n",
    "\n",
    "def desimal_to_hexadesimal(nilai):\n",
    "    return hex(nilai)\n",
    "\n",
    "def menu_aritmatika():\n",
    "    print(\"\\n--- Menu Aritmatika ---\")\n",
    "    print(\"1. Penjumlahan\")\n",
    "    print(\"2. Perpangkatan\")\n",
    "    print(\"3. Perkalian\")\n",
    "    choice = input(\"Pilih operasi: \")\n",
    "\n",
    "    try:\n",
    "        a = float(input(\"Masukkan bilangan pertama: \"))\n",
    "        b = float(input(\"Masukkan bilangan kedua: \"))\n",
    "    except ValueError:\n",
    "        print(\"Input harus berupa angka.\")\n",
    "        return\n",
    "\n",
    "    if choice == \"1\":\n",
    "        print(\"Hasil:\", penjumlahan(a, b))\n",
    "    elif choice == \"2\":\n",
    "        print(\"Hasil:\", perpangkatan(a, b))\n",
    "    elif choice == \"3\":\n",
    "        print(\"Hasil:\", perkalian(a, b))\n",
    "    else:\n",
    "        print(\"Pilihan tidak valid.\")\n",
    "\n",
    "def menu_konversi():\n",
    "    print(\"\\n--- Menu Konversi ---\")\n",
    "    print(\"1. CM to M\")\n",
    "    print(\"2. M to CM\")\n",
    "    choice = input(\"Pilih konversi: \")\n",
    "\n",
    "    try:\n",
    "        nilai = float(input(\"Masukkan nilai: \"))\n",
    "    except ValueError:\n",
    "        print(\"Input harus berupa angka.\")\n",
    "        return\n",
    "\n",
    "    if choice == \"1\":\n",
    "        print(\"Hasil:\", cm_to_m(nilai), \"meter\")\n",
    "    elif choice == \"2\":\n",
    "        print(\"Hasil:\", m_to_cm(nilai), \"cm\")\n",
    "    else:\n",
    "        print(\"Pilihan tidak valid.\")\n",
    "\n",
    "def menu_ubah_bilangan():\n",
    "    print(\"\\n--- Menu Ubah Bilangan ---\")\n",
    "    print(\"1. Desimal to Biner\")\n",
    "    print(\"2. Desimal to Oktal\")\n",
    "    print(\"3. Desimal to Hexadesimal\")\n",
    "    choice = input(\"Pilih konversi: \")\n",
    "\n",
    "    try:\n",
    "        nilai = int(input(\"Masukkan bilangan desimal: \"))\n",
    "    except ValueError:\n",
    "        print(\"Input harus berupa bilangan bulat.\")\n",
    "        return\n",
    "\n",
    "    if choice == '1':\n",
    "        print(\"Hasil:\", desimal_to_biner(nilai))\n",
    "    elif choice == '2':\n",
    "        print(\"Hasil:\", desimal_to_oktal(nilai))\n",
    "    elif choice == '3':\n",
    "        print(\"Hasil:\", desimal_to_hexadesimal(nilai))\n",
    "    else:\n",
    "        print(\"Pilihan tidak valid.\")\n",
    "\n",
    "def main():\n",
    "    while True:\n",
    "        print(\"\\n=== Menu Utama ===\")\n",
    "        print(\"1. Aritmatika\")\n",
    "        print(\"2. Konversi\")\n",
    "        print(\"3. Ubah Bilangan\")\n",
    "        print(\"4. Keluar\")\n",
    "\n",
    "        pilihan = input(\"Pilih menu: \")\n",
    "\n",
    "        if pilihan == '1':\n",
    "            menu_aritmatika()\n",
    "        elif pilihan == '2':\n",
    "            menu_konversi()\n",
    "        elif pilihan == '3':\n",
    "            menu_ubah_bilangan()\n",
    "        elif pilihan == '4':\n",
    "            print(\"Terima kasih telah menggunakan program ini.\")\n",
    "            break\n",
    "        else:\n",
    "            print(\"Pilihan tidak valid. Silakan coba lagi.\")\n",
    "\n",
    "if __name__ == \"__main__\":\n",
    "    main()\n"
   ]
  },
  {
   "cell_type": "code",
   "execution_count": null,
   "id": "7014f81b-a8b7-455d-8a05-193f0799c690",
   "metadata": {},
   "outputs": [],
   "source": []
  }
 ],
 "metadata": {
  "kernelspec": {
   "display_name": "Python [conda env:base] *",
   "language": "python",
   "name": "conda-base-py"
  },
  "language_info": {
   "codemirror_mode": {
    "name": "ipython",
    "version": 3
   },
   "file_extension": ".py",
   "mimetype": "text/x-python",
   "name": "python",
   "nbconvert_exporter": "python",
   "pygments_lexer": "ipython3",
   "version": "3.12.7"
  }
 },
 "nbformat": 4,
 "nbformat_minor": 5
}
