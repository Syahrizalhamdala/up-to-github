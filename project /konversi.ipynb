{
 "cells": [
  {
   "cell_type": "code",
   "execution_count": 6,
   "id": "2e51586c-6c30-4d81-a571-5ed04c4aae93",
   "metadata": {},
   "outputs": [],
   "source": [
    "def cm_to_m(cm):\n",
    "    return cm / 100\n",
    "def m_to_cm(m):\n",
    "    return m * 100"
   ]
  },
  {
   "cell_type": "code",
   "execution_count": null,
   "id": "77a5fd41-48d8-43b2-934c-5d88e8b95e54",
   "metadata": {},
   "outputs": [],
   "source": []
  }
 ],
 "metadata": {
  "kernelspec": {
   "display_name": "Python [conda env:base] *",
   "language": "python",
   "name": "conda-base-py"
  },
  "language_info": {
   "codemirror_mode": {
    "name": "ipython",
    "version": 3
   },
   "file_extension": ".py",
   "mimetype": "text/x-python",
   "name": "python",
   "nbconvert_exporter": "python",
   "pygments_lexer": "ipython3",
   "version": "3.12.7"
  }
 },
 "nbformat": 4,
 "nbformat_minor": 5
}
