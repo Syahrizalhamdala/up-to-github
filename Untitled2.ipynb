{
 "cells": [
  {
   "cell_type": "code",
   "execution_count": 17,
   "id": "a84d78be-86c6-4bff-8b92-aede99c794ae",
   "metadata": {},
   "outputs": [
    {
     "name": "stdout",
     "output_type": "stream",
     "text": [
      "Data berhasil dimuat:\n",
      "   usia jenis_kelamin  tekanan_darah  detak_jantung  saturasi_oksigen  \\\n",
      "0    22             L            120             80                98   \n",
      "1    45             P            140            100                92   \n",
      "2    30             L            110             70                99   \n",
      "3    55             P            105             69                97   \n",
      "4    47             L            120             89                98   \n",
      "\n",
      "   lama_gejala_hari  rawat_inap  \n",
      "0                 2           0  \n",
      "1                 5           1  \n",
      "2                 1           0  \n",
      "3                 5           1  \n",
      "4                 4           0  \n",
      "\n",
      "Hasil Prediksi:\n",
      "[0 0]\n",
      "\n",
      "Laporan Evaluasi:\n",
      "              precision    recall  f1-score   support\n",
      "\n",
      "           0       0.50      1.00      0.67         1\n",
      "           1       0.00      0.00      0.00         1\n",
      "\n",
      "    accuracy                           0.50         2\n",
      "   macro avg       0.25      0.50      0.33         2\n",
      "weighted avg       0.25      0.50      0.33         2\n",
      "\n"
     ]
    },
    {
     "name": "stderr",
     "output_type": "stream",
     "text": [
      "/opt/anaconda3/lib/python3.12/site-packages/sklearn/metrics/_classification.py:1531: UndefinedMetricWarning: Precision is ill-defined and being set to 0.0 in labels with no predicted samples. Use `zero_division` parameter to control this behavior.\n",
      "  _warn_prf(average, modifier, f\"{metric.capitalize()} is\", len(result))\n",
      "/opt/anaconda3/lib/python3.12/site-packages/sklearn/metrics/_classification.py:1531: UndefinedMetricWarning: Precision is ill-defined and being set to 0.0 in labels with no predicted samples. Use `zero_division` parameter to control this behavior.\n",
      "  _warn_prf(average, modifier, f\"{metric.capitalize()} is\", len(result))\n",
      "/opt/anaconda3/lib/python3.12/site-packages/sklearn/metrics/_classification.py:1531: UndefinedMetricWarning: Precision is ill-defined and being set to 0.0 in labels with no predicted samples. Use `zero_division` parameter to control this behavior.\n",
      "  _warn_prf(average, modifier, f\"{metric.capitalize()} is\", len(result))\n"
     ]
    }
   ],
   "source": [
    "# Contoh: Membaca data dummy dari file Excel untuk prediksi rawat inap\n",
    "\n",
    "import pandas as pd\n",
    "from sklearn.model_selection import train_test_split\n",
    "from sklearn.ensemble import RandomForestClassifier\n",
    "from sklearn.metrics import classification_report\n",
    "\n",
    "# 1. Load data dari file Excel (pastikan file bernama 'data_rawat_inap.xlsx')\n",
    "# Contoh struktur kolom di Excel:\n",
    "# usia | jenis_kelamin | tekanan_darah | detak_jantung | saturasi_oksigen | lama_gejala_hari | rawat_inap\n",
    "\n",
    "file_path = 'DATA DUMMY RAWAT INAP.xlsx'  # sesuaikan dengan lokasi file kamu\n",
    "\n",
    "try:\n",
    "    df = pd.read_excel(file_path)\n",
    "    print(\"Data berhasil dimuat:\")\n",
    "    print(df.head())\n",
    "\n",
    "    # 2. Pra-pemrosesan\n",
    "    label_mapping = {'L': 0, 'P': 1}\n",
    "    df['jenis_kelamin'] = df['jenis_kelamin'].map(label_mapping)\n",
    "\n",
    "    # 3. Pisahkan fitur dan label\n",
    "    X = df.drop('rawat_inap', axis=1)\n",
    "    y = df['rawat_inap']\n",
    "\n",
    "    # 4. Split data\n",
    "    X_train, X_test, y_train, y_test = train_test_split(X, y, test_size=0.3, random_state=42)\n",
    "\n",
    "    # 5. Model\n",
    "    model = RandomForestClassifier(random_state=42)\n",
    "    model.fit(X_train, y_train)\n",
    "\n",
    "    # 6. Evaluasi\n",
    "    y_pred = model.predict(X_test)\n",
    "    print(\"\\nHasil Prediksi:\")\n",
    "    print(y_pred)\n",
    "    print(\"\\nLaporan Evaluasi:\")\n",
    "    print(classification_report(y_test, y_pred))\n",
    "\n",
    "except FileNotFoundError:\n",
    "    print(\"File Excel tidak ditemukan. Pastikan nama dan path file benar.\")\n"
   ]
  },
  {
   "cell_type": "code",
   "execution_count": null,
   "id": "ecc2166c-5da6-486e-a48a-6cb880e5161c",
   "metadata": {},
   "outputs": [],
   "source": []
  },
  {
   "cell_type": "code",
   "execution_count": null,
   "id": "01758a7c-d775-4d45-a2a0-75f5f365998a",
   "metadata": {},
   "outputs": [],
   "source": []
  }
 ],
 "metadata": {
  "kernelspec": {
   "display_name": "Python [conda env:base] *",
   "language": "python",
   "name": "conda-base-py"
  },
  "language_info": {
   "codemirror_mode": {
    "name": "ipython",
    "version": 3
   },
   "file_extension": ".py",
   "mimetype": "text/x-python",
   "name": "python",
   "nbconvert_exporter": "python",
   "pygments_lexer": "ipython3",
   "version": "3.12.7"
  }
 },
 "nbformat": 4,
 "nbformat_minor": 5
}
