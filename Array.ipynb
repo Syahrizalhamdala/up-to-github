{
 "cells": [
  {
   "cell_type": "code",
   "execution_count": 95,
   "id": "b7562851-9ada-41c0-9611-4751fca2aad3",
   "metadata": {},
   "outputs": [],
   "source": [
    "import numpy as np"
   ]
  },
  {
   "cell_type": "code",
   "execution_count": 97,
   "id": "c53174c0-be83-4ccb-a468-ba7949ce9faf",
   "metadata": {},
   "outputs": [],
   "source": [
    "#MATRIX 1D\n",
    "mat1d = np.array([1,2,3,4,5,6,7,8,9,10])\n",
    "mat2d = np.array([[1,2,3],[4,5,6],[7,8,9]])\n"
   ]
  },
  {
   "cell_type": "code",
   "execution_count": 99,
   "id": "e9c300bb-945f-4565-b755-ef6b9fe73560",
   "metadata": {},
   "outputs": [
    {
     "name": "stdout",
     "output_type": "stream",
     "text": [
      "[ 1  2  3  4  5  6  7  8  9 10]\n",
      "1\n"
     ]
    }
   ],
   "source": [
    "print(mat1d)\n",
    "print(mat1d[0])"
   ]
  },
  {
   "cell_type": "code",
   "execution_count": 101,
   "id": "caffc9bc-8a90-438a-b520-81c84be01c75",
   "metadata": {},
   "outputs": [
    {
     "name": "stdout",
     "output_type": "stream",
     "text": [
      "[ 6  7  8  9 10 11 12 13 14 15]\n"
     ]
    }
   ],
   "source": [
    "print(mat1d + 5)"
   ]
  },
  {
   "cell_type": "code",
   "execution_count": 103,
   "id": "cef1b5bc-962d-44ad-9068-0712cf726dac",
   "metadata": {},
   "outputs": [
    {
     "name": "stdout",
     "output_type": "stream",
     "text": [
      "[[1 2 3]\n",
      " [4 5 6]\n",
      " [7 8 9]]\n"
     ]
    }
   ],
   "source": [
    "print(mat2d)"
   ]
  },
  {
   "cell_type": "code",
   "execution_count": 105,
   "id": "bd812c3a-82ec-4857-883c-c7126b0d6526",
   "metadata": {},
   "outputs": [
    {
     "name": "stdout",
     "output_type": "stream",
     "text": [
      "[1 2 3]\n",
      "[4 5 6]\n",
      "[7 8 9]\n"
     ]
    }
   ],
   "source": [
    "print(mat2d[0])\n",
    "print(mat2d[1])\n",
    "print(mat2d[2])"
   ]
  },
  {
   "cell_type": "code",
   "execution_count": 107,
   "id": "5f0271ed-ff66-4247-9c8b-f9771a6ec8af",
   "metadata": {},
   "outputs": [
    {
     "name": "stdout",
     "output_type": "stream",
     "text": [
      "3\n"
     ]
    }
   ],
   "source": [
    "print(mat2d[0][2])"
   ]
  },
  {
   "cell_type": "code",
   "execution_count": 109,
   "id": "c1fc0a2e-f99a-43f9-8f19-1b721a40a87e",
   "metadata": {},
   "outputs": [
    {
     "name": "stdout",
     "output_type": "stream",
     "text": [
      "[[10 20 30]\n",
      " [40 50 60]\n",
      " [70 80 90]]\n"
     ]
    }
   ],
   "source": [
    "print(mat2d * 10)"
   ]
  },
  {
   "cell_type": "code",
   "execution_count": 111,
   "id": "f139a36e-4250-4d30-a06a-7b509ba3d761",
   "metadata": {},
   "outputs": [
    {
     "name": "stdout",
     "output_type": "stream",
     "text": [
      "(10,)\n",
      "(3, 3)\n"
     ]
    }
   ],
   "source": [
    "print(mat1d.shape)\n",
    "print(mat2d.shape)"
   ]
  },
  {
   "cell_type": "code",
   "execution_count": 113,
   "id": "9d2b9dcc-ef35-45f2-bf41-010518a1d88e",
   "metadata": {},
   "outputs": [
    {
     "name": "stdout",
     "output_type": "stream",
     "text": [
      "10\n",
      "9\n"
     ]
    }
   ],
   "source": [
    "print(mat1d.size)\n",
    "print(mat2d.size)"
   ]
  },
  {
   "cell_type": "code",
   "execution_count": 115,
   "id": "bba1f3a9-f94d-44f0-a2ff-5271d28042df",
   "metadata": {},
   "outputs": [],
   "source": [
    "#special matrix\n",
    "mZero = np.zeros((3,3))\n",
    "mIdentity = np.eye((4))\n",
    "mFull = np.full((4,4),7)\n",
    "mOne = np.ones((5,4))\n",
    "mRandomFloat = np.random.rand(5,5)\n",
    "mRandomInt = np.random.randint(10,101, size=6)"
   ]
  },
  {
   "cell_type": "code",
   "execution_count": 117,
   "id": "a6331bc6-82f5-4f6e-ba64-cb9f9ea34dc6",
   "metadata": {},
   "outputs": [
    {
     "name": "stdout",
     "output_type": "stream",
     "text": [
      "[[0. 0. 0.]\n",
      " [0. 0. 0.]\n",
      " [0. 0. 0.]]\n"
     ]
    }
   ],
   "source": [
    "print(mZero)"
   ]
  },
  {
   "cell_type": "code",
   "execution_count": 119,
   "id": "dcb1820b-a8e5-49d6-881a-c8d1c4528a42",
   "metadata": {},
   "outputs": [
    {
     "name": "stdout",
     "output_type": "stream",
     "text": [
      "[[1. 0. 0. 0.]\n",
      " [0. 1. 0. 0.]\n",
      " [0. 0. 1. 0.]\n",
      " [0. 0. 0. 1.]]\n"
     ]
    }
   ],
   "source": [
    "print(mIdentity)"
   ]
  },
  {
   "cell_type": "code",
   "execution_count": 121,
   "id": "318168db-8a62-45ab-8f3a-4c8edd62f8c0",
   "metadata": {},
   "outputs": [
    {
     "name": "stdout",
     "output_type": "stream",
     "text": [
      "[[7 7 7 7]\n",
      " [7 7 7 7]\n",
      " [7 7 7 7]\n",
      " [7 7 7 7]]\n"
     ]
    }
   ],
   "source": [
    "print(mFull)"
   ]
  },
  {
   "cell_type": "code",
   "execution_count": 123,
   "id": "ce73665d-9565-43c3-ad5b-83e9c495e7e3",
   "metadata": {},
   "outputs": [
    {
     "name": "stdout",
     "output_type": "stream",
     "text": [
      "[[1. 1. 1. 1.]\n",
      " [1. 1. 1. 1.]\n",
      " [1. 1. 1. 1.]\n",
      " [1. 1. 1. 1.]\n",
      " [1. 1. 1. 1.]]\n"
     ]
    }
   ],
   "source": [
    "print(mOne)"
   ]
  },
  {
   "cell_type": "code",
   "execution_count": 91,
   "id": "dddee207-60dc-4993-bb56-2ed228e79c3f",
   "metadata": {},
   "outputs": [
    {
     "name": "stdout",
     "output_type": "stream",
     "text": [
      "[[0.95882392 0.61155563 0.28605111 0.34810014 0.32206257]\n",
      " [0.12005652 0.46511863 0.84651704 0.82399179 0.00710049]\n",
      " [0.92145989 0.68813523 0.14310535 0.12781282 0.07516127]\n",
      " [0.17631186 0.6450412  0.82581172 0.86212052 0.69331035]\n",
      " [0.64760183 0.19829368 0.10063719 0.06072357 0.45166684]]\n"
     ]
    }
   ],
   "source": [
    "print(mRandomFloat)"
   ]
  },
  {
   "cell_type": "code",
   "execution_count": 93,
   "id": "e49b78d2-c894-4171-b1c6-0990fa54115c",
   "metadata": {},
   "outputs": [
    {
     "name": "stdout",
     "output_type": "stream",
     "text": [
      "[85 12 57 96 59 25]\n"
     ]
    }
   ],
   "source": [
    "print(mRandomInt)"
   ]
  },
  {
   "cell_type": "code",
   "execution_count": 129,
   "id": "5d18602c-f9eb-4b5f-9ca8-52e57ad4ef8e",
   "metadata": {},
   "outputs": [
    {
     "name": "stdout",
     "output_type": "stream",
     "text": [
      " hasil dari dot product : 65\n",
      " hasil penjualan matrix : [ 3  9 14]\n",
      " hasil nilai minimum : 2\n",
      " hasil nilai maksimum : 5\n",
      " rata rata nilai dari : 3.0\n",
      " nilai tengah dari : 3.0\n",
      " nilai deviasi dari  : 1.632993161855452\n"
     ]
    }
   ],
   "source": [
    "x = np.array([2,6,9])\n",
    "y = np.array([1,3,5])\n",
    "\n",
    "dotProduct = np.dot(x,y)\n",
    "addMatrix = np.add(x,y)\n",
    "minValue = np.min(x)\n",
    "maxValue = np.max(y)\n",
    "meanValue = np.mean(y)\n",
    "medianValue = np.median(y)\n",
    "stdValue = np.std(y)\n",
    "\n",
    "\n",
    "print(f\" hasil dari dot product : {dotProduct}\")\n",
    "print(f\" hasil penjualan matrix : {addMatrix}\")\n",
    "print(f\" hasil nilai minimum : {minValue}\")\n",
    "print(f\" hasil nilai maksimum : {maxValue}\")\n",
    "print(f\" rata rata nilai dari : {meanValue}\")\n",
    "print(f\" nilai tengah dari : {medianValue}\")\n",
    "print(f\" nilai deviasi dari  : {stdValue}\")"
   ]
  },
  {
   "cell_type": "code",
   "execution_count": 138,
   "id": "4306c347-5eff-4655-a171-8fa072cb742e",
   "metadata": {},
   "outputs": [
    {
     "name": "stdout",
     "output_type": "stream",
     "text": [
      "[[1 2]\n",
      " [3 4]\n",
      " [5 6]]\n",
      "[1 2 3 4 5 6]\n"
     ]
    }
   ],
   "source": [
    "myArray = np.array([[1,2,3],[4,5,6]])\n",
    "\n",
    "reshape = myArray.reshape(3,2)\n",
    "flatten = myArray.flatten()\n",
    "\n",
    "print(reshape)\n",
    "print(flatten)"
   ]
  },
  {
   "cell_type": "code",
   "execution_count": 142,
   "id": "8d32fb03-2de7-40f0-9562-97d5eb711cf9",
   "metadata": {},
   "outputs": [
    {
     "name": "stdout",
     "output_type": "stream",
     "text": [
      "[ 80  90  60 100  95]\n",
      "Jumlah siswa yang lulus : 5\n"
     ]
    }
   ],
   "source": [
    "#filtering\n",
    "nilaiSiswa = np.array([80,90,60,50,50,100,95])\n",
    "lulus = nilaiSiswa[nilaiSiswa > 50]\n",
    "jumlah = lulus.size\n",
    "print(lulus)\n",
    "print(f\"Jumlah siswa yang lulus : {jumlah}\")"
   ]
  },
  {
   "cell_type": "code",
   "execution_count": null,
   "id": "a76b1c24-06a4-440f-9265-5cd482ab1283",
   "metadata": {},
   "outputs": [],
   "source": []
  },
  {
   "cell_type": "code",
   "execution_count": null,
   "id": "a88c7d88-6819-433f-b9af-0ac0435cda69",
   "metadata": {},
   "outputs": [],
   "source": []
  }
 ],
 "metadata": {
  "kernelspec": {
   "display_name": "Python [conda env:base] *",
   "language": "python",
   "name": "conda-base-py"
  },
  "language_info": {
   "codemirror_mode": {
    "name": "ipython",
    "version": 3
   },
   "file_extension": ".py",
   "mimetype": "text/x-python",
   "name": "python",
   "nbconvert_exporter": "python",
   "pygments_lexer": "ipython3",
   "version": "3.12.7"
  }
 },
 "nbformat": 4,
 "nbformat_minor": 5
}
