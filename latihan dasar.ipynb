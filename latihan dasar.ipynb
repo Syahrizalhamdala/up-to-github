{
 "cells": [
  {
   "cell_type": "code",
   "execution_count": 4,
   "id": "ad70ed85-c7a8-4684-a0c3-e130c65b7cd9",
   "metadata": {},
   "outputs": [
    {
     "name": "stdin",
     "output_type": "stream",
     "text": [
      "kalimat aril ganteng\n"
     ]
    },
    {
     "name": "stdout",
     "output_type": "stream",
     "text": [
      "12\n"
     ]
    }
   ],
   "source": [
    "teks = input(\"kalimat\")\n",
    "kata = len(teks)\n",
    "print(kata)"
   ]
  },
  {
   "cell_type": "code",
   "execution_count": 51,
   "id": "c1e5a91e-4cc2-4ae3-ab76-6db975276a7a",
   "metadata": {},
   "outputs": [
    {
     "name": "stdin",
     "output_type": "stream",
     "text": [
      "Masukkan Sebuah Kata: aril\n"
     ]
    },
    {
     "name": "stdout",
     "output_type": "stream",
     "text": [
      "ArIl\n"
     ]
    }
   ],
   "source": [
    "def ubahHuruf(kata):\n",
    "  vokal = \"aiueoAIUEO\"\n",
    "  hasil = \"\"\n",
    "  for huruf in kata:\n",
    "    if huruf in vokal:\n",
    "     hasil += huruf.upper()\n",
    "    else:\n",
    "     hasil += huruf.lower()\n",
    "  return hasil\n",
    "\n",
    "kata = input(\"Masukkan Sebuah Kata:\")\n",
    "ubahHasil = ubahHuruf(kata)\n",
    "print(ubahHasil)"
   ]
  },
  {
   "cell_type": "code",
   "execution_count": 57,
   "id": "833c798b-776c-4c65-9e48-49b10febcaa6",
   "metadata": {},
   "outputs": [
    {
     "name": "stdin",
     "output_type": "stream",
     "text": [
      "Masukkan Kalimat Utama aril ganteng sekali\n",
      "Masukkan Kalimat Substring Aril\n"
     ]
    },
    {
     "name": "stdout",
     "output_type": "stream",
     "text": [
      "'Aril'Bukan Substring Dari'aril ganteng sekali'\n"
     ]
    }
   ],
   "source": [
    "def cekSubstring(kalimat1,kalimat2):\n",
    "     return kalimat2 in kalimat1\n",
    "\n",
    "kalimatUtama = input(\"Masukkan Kalimat Utama\")\n",
    "kalimatSubstring = input(\"Masukkan Kalimat Substring\")\n",
    "\n",
    "if cekSubstring(kalimatUtama, kalimatSubstring):\n",
    "    print(f\"'{kalimatSubstring}'Adalah Substring Dari{kalimatUtama}'\")\n",
    "else:\n",
    "    print(f\"'{kalimatSubstring}'Bukan Substring Dari'{kalimatUtama}'\")\n"
   ]
  },
  {
   "cell_type": "code",
   "execution_count": 9,
   "id": "c09d3b9a-a6c1-4e1d-90e3-b63f03f63dd6",
   "metadata": {},
   "outputs": [
    {
     "name": "stdout",
     "output_type": "stream",
     "text": [
      "selamat\n"
     ]
    }
   ],
   "source": [
    "if 2 > 4:\n",
    " print(\"lulus\")\n",
    "    \n",
    "print(\"selamat\")"
   ]
  },
  {
   "cell_type": "code",
   "execution_count": null,
   "id": "0ee75e9d-ec20-4d60-a26f-4ebe1ad8aeea",
   "metadata": {},
   "outputs": [],
   "source": []
  }
 ],
 "metadata": {
  "kernelspec": {
   "display_name": "Python [conda env:base] *",
   "language": "python",
   "name": "conda-base-py"
  },
  "language_info": {
   "codemirror_mode": {
    "name": "ipython",
    "version": 3
   },
   "file_extension": ".py",
   "mimetype": "text/x-python",
   "name": "python",
   "nbconvert_exporter": "python",
   "pygments_lexer": "ipython3",
   "version": "3.12.7"
  }
 },
 "nbformat": 4,
 "nbformat_minor": 5
}
