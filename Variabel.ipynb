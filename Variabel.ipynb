{
 "cells": [
  {
   "cell_type": "code",
   "execution_count": 5,
   "id": "07fdb4ef-69de-4359-8ba3-6db190d436ba",
   "metadata": {},
   "outputs": [
    {
     "name": "stdout",
     "output_type": "stream",
     "text": [
      "Nama : syahrizal\n",
      "Umur : 20\n",
      "Alamat : Jl.Cibolang\n",
      "Provinsi : 7413412\n",
      "Nilai Pemograman : 90.8\n",
      "Status Meni : False\n"
     ]
    }
   ],
   "source": [
    "name=\"syahrizal\"\n",
    "age = 20\n",
    "address,province = \"Jl.Cibolang\",\"7413412\"\n",
    "pythonScore = 90.8\n",
    "isMarried = False\n",
    "\n",
    "print(\"Nama :\",name)\n",
    "print(\"Umur :\",age)\n",
    "print(\"Alamat :\",address)\n",
    "print(\"Provinsi :\",province)\n",
    "print(\"Nilai Pemograman :\",pythonScore)\n",
    "print(\"Status Meni :\",isMarried)\n",
    "\n"
   ]
  },
  {
   "cell_type": "code",
   "execution_count": 16,
   "id": "faeacc46-49b4-4399-a041-b0c8c9735809",
   "metadata": {},
   "outputs": [
    {
     "name": "stdout",
     "output_type": "stream",
     "text": [
      "Tipe Data (nama): <class 'str'>\n",
      "Tipe Data (age): <class 'int'>\n",
      "Tipe Data (address): <class 'str'>\n",
      "Tipe Data (province): <class 'str'>\n",
      "Tipe Data (pythonScore): <class 'float'>\n",
      "Tipe Data (isMarried): <class 'bool'>\n"
     ]
    }
   ],
   "source": [
    "print(\"Tipe Data (nama):\",type(name))\n",
    "print(\"Tipe Data (age):\",type(age))\n",
    "print(\"Tipe Data (address):\",type(address))\n",
    "print(\"Tipe Data (province):\",type(province))\n",
    "print(\"Tipe Data (pythonScore):\",type(pythonScore))\n",
    "print(\"Tipe Data (isMarried):\",type(isMarried))"
   ]
  },
  {
   "cell_type": "code",
   "execution_count": 24,
   "id": "f52e9d43-0fea-4ab8-80e7-517ccb4dc807",
   "metadata": {},
   "outputs": [
    {
     "name": "stdout",
     "output_type": "stream",
     "text": [
      "7413412 7413412.0 True\n"
     ]
    }
   ],
   "source": [
    "#Casting atau Konversi Tipa Data\n",
    "\n",
    "strToInt = int(province)\n",
    "strToFloat = float(province)\n",
    "strToBool = bool(province)\n",
    "\n",
    "print(strToInt,strToFloat,strToBool)\n"
   ]
  },
  {
   "cell_type": "code",
   "execution_count": 28,
   "id": "d28fd7ef-023e-4648-a78b-cd1041355868",
   "metadata": {},
   "outputs": [
    {
     "name": "stdout",
     "output_type": "stream",
     "text": [
      "20 20.0 True\n"
     ]
    }
   ],
   "source": [
    "intToStr = str(age)\n",
    "intToFloat = float(age)\n",
    "intToBool = bool(age)\n",
    "print(intToStr,intToFloat,intToBool)"
   ]
  },
  {
   "cell_type": "code",
   "execution_count": null,
   "id": "f61bad34-c53b-431c-9aa1-d04aee5c54ac",
   "metadata": {},
   "outputs": [],
   "source": []
  },
  {
   "cell_type": "code",
   "execution_count": 7,
   "id": "4a61b661-9630-4d63-9105-3c05ada81c38",
   "metadata": {},
   "outputs": [
    {
     "name": "stdout",
     "output_type": "stream",
     "text": [
      "90.8 90 True\n"
     ]
    }
   ],
   "source": [
    "floatToStr = str(pythonScore)\n",
    "floatToInt = int(pythonScore)\n",
    "floatToBool= bool(pythonScore)\n",
    "print(floatToStr,floatToInt,floatToBool)"
   ]
  },
  {
   "cell_type": "code",
   "execution_count": 9,
   "id": "4353fd60-3ce1-402f-bece-a302b41dfe9e",
   "metadata": {},
   "outputs": [
    {
     "name": "stdout",
     "output_type": "stream",
     "text": [
      "False 0 False\n"
     ]
    }
   ],
   "source": [
    "boolToStr = str(isMarried)\n",
    "boolToInt = int(isMarried)\n",
    "boolToBool = bool(isMarried)\n",
    "print(boolToStr,boolToInt,boolToBool)"
   ]
  },
  {
   "cell_type": "code",
   "execution_count": 11,
   "id": "a5b4194b-d780-4885-8832-09d55d63d7e1",
   "metadata": {},
   "outputs": [
    {
     "name": "stdout",
     "output_type": "stream",
     "text": [
      "k\n",
      "a\n"
     ]
    }
   ],
   "source": [
    "#String adalah kumpulan dari beberapa karakter dan immutable\n",
    "city = \"kolaka utara\"\n",
    "panjang = len(city)\n",
    "print(city[0])\n",
    "print(city[panjang-1])"
   ]
  },
  {
   "cell_type": "code",
   "execution_count": 35,
   "id": "51332906-21be-4eab-bce2-b48295ce421b",
   "metadata": {},
   "outputs": [
    {
     "name": "stdout",
     "output_type": "stream",
     "text": [
      "Nilai desimal: 500\n",
      "Nilai biner: 10\n",
      "Nilai octal: 255\n",
      "Nilai hexa: 255\n",
      "Biner dari  500 : 0b111110100\n",
      "Octal dari  500 : 0o764\n",
      "Hexadesimal dari  500 : 0x1f4\n"
     ]
    }
   ],
   "source": [
    "desimal = 500\n",
    "biner = 0b1010\n",
    "octal = 0o377\n",
    "hexa = 0xff\n",
    "\n",
    "print(\"Nilai desimal:\",desimal)\n",
    "print(\"Nilai biner:\",biner)\n",
    "print(\"Nilai octal:\",octal)\n",
    "print(\"Nilai hexa:\",hexa)\n",
    "\n",
    "\n",
    "\n",
    "print(\"Biner dari \",desimal,\":\",bin(desimal))\n",
    "print(\"Octal dari \",desimal,\":\",oct(desimal))\n",
    "print(\"Hexadesimal dari \",desimal,\":\",hex(desimal))\n",
    "\n",
    "\n"
   ]
  },
  {
   "cell_type": "code",
   "execution_count": 63,
   "id": "7160867b-7267-45fb-bc3e-059bf5c1f0c9",
   "metadata": {},
   "outputs": [
    {
     "name": "stdout",
     "output_type": "stream",
     "text": [
      "['Sukabumi', 'Malang', 'Surabaya', 'Kendari']\n",
      "Sukabumi\n",
      "Kendari\n",
      "['Sukabumi', 'Jakarta', 'Surabaya', 'Kendari']\n",
      "('Futsal', 'Badminton', 'Golf')\n",
      "Futsal\n",
      "('Futsal', 'Badminton', 'Golf')\n",
      "{'name': 'Aril', 'age': '20', 'address': {'street': 'Jl.Cibolang', 'number': 24, 'province': 'Kab. Sukabumi'}}\n",
      "Aril\n",
      "Kab. Sukabumi\n",
      "[{'name': 'baco', 'age': '24', 'address': {'street': 'Jl.pondok', 'number': 59, 'province': 'Kab. kolaka'}}, {'name': 'kaku', 'age': '22', 'address': {'street': 'Jl.manja', 'number': 54, 'province': 'Kab. bau bau'}}]\n"
     ]
    }
   ],
   "source": [
    "#Tipe Data Collection\n",
    "#LIST\n",
    "cities = [\"Sukabumi\",\"Malang\",\"Surabaya\",\"Kendari\"]\n",
    "print(cities)\n",
    "print(cities[0])\n",
    "print(cities[len(cities)-1])\n",
    "cities[1]= \"Jakarta\" \n",
    "print(cities)\n",
    "\n",
    "#TUPLE\n",
    "\n",
    "hobbies = (\"Futsal\",\"Badminton\",\"Golf\")\n",
    "print(hobbies)\n",
    "print(hobbies[0])\n",
    "print(hobbies)\n",
    "# tuple tidak bisa di ubah\"\n",
    "\n",
    "#DICTIONARY\n",
    "\n",
    "studentData = {\n",
    "    \"name\" : \"Aril\",\n",
    "    \"age\"  : \"20\",\n",
    "    \"address\" :{\n",
    "        \"street\" : \"Jl.Cibolang\",\n",
    "        \"number\" : 24,\n",
    "        \"province\" : \"Kab. Sukabumi\"\n",
    "    }\n",
    "    \n",
    "}\n",
    "\n",
    "studentList = [\n",
    "  {\n",
    "    \"name\" : \"baco\",\n",
    "    \"age\"  : \"24\",\n",
    "    \"address\" :{\n",
    "        \"street\" : \"Jl.pondok\",\n",
    "        \"number\" : 59,\n",
    "        \"province\" : \"Kab. kolaka\"\n",
    "  }\n",
    "  },\n",
    "     {\n",
    "    \"name\" : \"kaku\",\n",
    "    \"age\"  : \"22\",\n",
    "    \"address\" :{\n",
    "        \"street\" : \"Jl.manja\",\n",
    "        \"number\" : 54,\n",
    "        \"province\" : \"Kab. bau bau\"\n",
    "  }\n",
    "  }\n",
    "]\n",
    "print(studentData)\n",
    "print(studentData[\"name\"])\n",
    "print(studentData[\"address\"][\"province\"])\n",
    "print(studentList)\n"
   ]
  },
  {
   "cell_type": "code",
   "execution_count": null,
   "id": "f60d00a2-b83f-4bcf-91a3-c0e7f9ee46ad",
   "metadata": {},
   "outputs": [],
   "source": [
    "\n"
   ]
  }
 ],
 "metadata": {
  "kernelspec": {
   "display_name": "Python [conda env:base] *",
   "language": "python",
   "name": "conda-base-py"
  },
  "language_info": {
   "codemirror_mode": {
    "name": "ipython",
    "version": 3
   },
   "file_extension": ".py",
   "mimetype": "text/x-python",
   "name": "python",
   "nbconvert_exporter": "python",
   "pygments_lexer": "ipython3",
   "version": "3.12.7"
  }
 },
 "nbformat": 4,
 "nbformat_minor": 5
}
