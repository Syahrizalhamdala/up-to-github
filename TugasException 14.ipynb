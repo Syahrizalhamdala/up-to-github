{
 "cells": [
  {
   "cell_type": "code",
   "execution_count": null,
   "id": "38d7b2f7-63ad-480c-bcdd-496304a2a1a8",
   "metadata": {},
   "outputs": [
    {
     "name": "stdout",
     "output_type": "stream",
     "text": [
      "=== MENU DATA MAHASISWA ===\n",
      "1. Tambah Data Mahasiswa\n",
      "2. Tampilkan Data Mahasiswa\n",
      "3. Keluar\n"
     ]
    },
    {
     "name": "stdin",
     "output_type": "stream",
     "text": [
      "Pilih menu (1/2/3):  2\n"
     ]
    },
    {
     "name": "stdout",
     "output_type": "stream",
     "text": [
      "\n",
      "Daftar Mahasiswa:\n",
      "1. NIM: 12345678910 | Nama: rahmati | Alamat: cibolang kelar | Kelas: TI24\n",
      "2. NIM: 55555555555 | Nama: raisana | Alamat: kota sukabumi | Kelas: TI23\n",
      "\n",
      "=== MENU DATA MAHASISWA ===\n",
      "1. Tambah Data Mahasiswa\n",
      "2. Tampilkan Data Mahasiswa\n",
      "3. Keluar\n"
     ]
    },
    {
     "name": "stdin",
     "output_type": "stream",
     "text": [
      "Pilih menu (1/2/3):  1\n",
      "Masukkan NIM (11 digit):  43434343\n"
     ]
    },
    {
     "name": "stdout",
     "output_type": "stream",
     "text": [
      "Input tidak valid: NIM harus terdiri dari 11 digit angka.\n",
      "\n",
      "=== MENU DATA MAHASISWA ===\n",
      "1. Tambah Data Mahasiswa\n",
      "2. Tampilkan Data Mahasiswa\n",
      "3. Keluar\n"
     ]
    },
    {
     "name": "stdin",
     "output_type": "stream",
     "text": [
      "Pilih menu (1/2/3):  1\n",
      "Masukkan NIM (11 digit):  12032143567\n",
      "Masukkan Nama (minimal 6 karakter):  arul\n"
     ]
    },
    {
     "name": "stdout",
     "output_type": "stream",
     "text": [
      "Input tidak valid: Nama harus minimal 6 karakter.\n",
      "\n",
      "=== MENU DATA MAHASISWA ===\n",
      "1. Tambah Data Mahasiswa\n",
      "2. Tampilkan Data Mahasiswa\n",
      "3. Keluar\n"
     ]
    },
    {
     "name": "stdin",
     "output_type": "stream",
     "text": [
      "Pilih menu (1/2/3):  1\n",
      "Masukkan NIM (11 digit):  20240040048\n",
      "Masukkan Nama (minimal 6 karakter):  raissa\n",
      "Masukkan Alamat (minimal 10 karakter):  kabupaten sukabumi\n",
      "Masukkan Kelas (TI23 atau TI24):  TI24\n"
     ]
    },
    {
     "name": "stdout",
     "output_type": "stream",
     "text": [
      "Data mahasiswa berhasil ditambahkan!\n",
      "\n",
      "=== MENU DATA MAHASISWA ===\n",
      "1. Tambah Data Mahasiswa\n",
      "2. Tampilkan Data Mahasiswa\n",
      "3. Keluar\n"
     ]
    }
   ],
   "source": [
    "### mahasiswa_list = []\n",
    "\n",
    "def tambah_mahasiswa():\n",
    "    try:\n",
    "        nim = input(\"Masukkan NIM (11 digit): \")\n",
    "        if len(nim) != 11 or not nim.isdigit():\n",
    "            raise ValueError(\"NIM harus terdiri dari 11 digit angka.\")\n",
    "\n",
    "        nama = input(\"Masukkan Nama (minimal 6 karakter): \")\n",
    "        if len(nama) < 6:\n",
    "            raise ValueError(\"Nama harus minimal 6 karakter.\")\n",
    "\n",
    "        alamat = input(\"Masukkan Alamat (minimal 10 karakter): \")\n",
    "        if len(alamat) < 10:\n",
    "            raise ValueError(\"Alamat harus minimal 10 karakter.\")\n",
    "\n",
    "        kelas = input(\"Masukkan Kelas (TI23 atau TI24): \").upper()\n",
    "        if kelas not in ['TI23', 'TI24']:\n",
    "            raise ValueError(\"Kelas hanya boleh 'TI23' atau 'TI24'.\")\n",
    "\n",
    "        mahasiswa = {\n",
    "            'NIM': nim,\n",
    "            'Nama': nama,\n",
    "            'Alamat': alamat,\n",
    "            'Kelas': kelas\n",
    "        }\n",
    "\n",
    "        mahasiswa_list.append(mahasiswa)\n",
    "        print(\"Data mahasiswa berhasil ditambahkan!\\n\")\n",
    "\n",
    "    except ValueError as arr:\n",
    "        print(f\"Input tidak valid: {e}\\n\")\n",
    "\n",
    "def tampilkan_data():\n",
    "    if not mahasiswa_list:\n",
    "        print(\"Belum ada data mahasiswa.\\n\")\n",
    "        return\n",
    "\n",
    "    print(\"\\nDaftar Mahasiswa:\")\n",
    "    for idx, mhs in enumerate(mahasiswa_list, start=1):\n",
    "        print(f\"{idx}. NIM: {mhs['NIM']} | Nama: {mhs['Nama']} | Alamat: {mhs['Alamat']} | Kelas: {mhs['Kelas']}\")\n",
    "    print()\n",
    "\n",
    "def menu():\n",
    "    while True:\n",
    "        print(\"=== MENU DATA MAHASISWA ===\")\n",
    "        print(\"1. Tambah Data Mahasiswa\")\n",
    "        print(\"2. Tampilkan Data Mahasiswa\")\n",
    "        print(\"3. Keluar\")\n",
    "\n",
    "        pilihan = input(\"Pilih menu (1/2/3): \")\n",
    "\n",
    "        if pilihan == '1':\n",
    "            tambah_mahasiswa()\n",
    "        elif pilihan == '2':\n",
    "            tampilkan_data()\n",
    "        elif pilihan == '3':\n",
    "            print(\"Terima kasih!\")\n",
    "            break\n",
    "        else:\n",
    "            print(\"Pilihan tidak valid. Silakan pilih 1, 2, atau 3.\\n\")\n",
    "\n",
    "\n",
    "menu()\n"
   ]
  },
  {
   "cell_type": "code",
   "execution_count": null,
   "id": "f283d196-c35e-4554-aeeb-3b5612de7b1e",
   "metadata": {},
   "outputs": [],
   "source": []
  }
 ],
 "metadata": {
  "kernelspec": {
   "display_name": "Python [conda env:base] *",
   "language": "python",
   "name": "conda-base-py"
  },
  "language_info": {
   "codemirror_mode": {
    "name": "ipython",
    "version": 3
   },
   "file_extension": ".py",
   "mimetype": "text/x-python",
   "name": "python",
   "nbconvert_exporter": "python",
   "pygments_lexer": "ipython3",
   "version": "3.12.7"
  }
 },
 "nbformat": 4,
 "nbformat_minor": 5
}
