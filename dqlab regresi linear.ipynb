{
 "cells": [
  {
   "cell_type": "code",
   "execution_count": 2,
   "id": "6b0dd789-7377-41cc-ada2-125335a17ab9",
   "metadata": {},
   "outputs": [
    {
     "name": "stdout",
     "output_type": "stream",
     "text": [
      "Ukuran df: (24, 4)\n",
      "         tingkat kunjungan ke dokter gigi  penjualan permen  penjualan sereal  \\\n",
      "Periode                                                                         \n",
      "1996-01                                37            200661             10324   \n",
      "1996-02                                32            297141             13150   \n",
      "1996-03                                56            235586              5398   \n",
      "1996-04                                43            299498              7609   \n",
      "1996-05                                52            395824              5190   \n",
      "1996-06                                70            247212             14571   \n",
      "1996-07                                64            273899             13407   \n",
      "1996-08                                88            184405              8914   \n",
      "1996-09                                74            141211              3663   \n",
      "1996-10                                98            292225             14756   \n",
      "1996-11                                80            227864              3883   \n",
      "1996-12                                46            259963              5720   \n",
      "1997-01                                66            433783             16209   \n",
      "1997-02                                78            343034              5955   \n",
      "1997-03                                46            419255             14789   \n",
      "1997-04                                62            393175             11150   \n",
      "1997-05                               124            304954              4930   \n",
      "1997-06                               106            439380             15041   \n",
      "1997-07                               110            270706             14210   \n",
      "1997-08                                98            319472              5002   \n",
      "1997-09                                76            262688              3172   \n",
      "1997-10                               132            322140              9818   \n",
      "1997-11                                82            467572             13545   \n",
      "1997-12                                84            431484              2372   \n",
      "\n",
      "         penjualan buah pisang  \n",
      "Periode                         \n",
      "1996-01                 112146  \n",
      "1996-02                 175417  \n",
      "1996-03                 104645  \n",
      "1996-04                 112283  \n",
      "1996-05                 137083  \n",
      "1996-06                 198130  \n",
      "1996-07                 194685  \n",
      "1996-08                 100091  \n",
      "1996-09                 194972  \n",
      "1996-10                 133166  \n",
      "1996-11                 155598  \n",
      "1996-12                 104563  \n",
      "1997-01                 104216  \n",
      "1997-02                 142908  \n",
      "1997-03                 135994  \n",
      "1997-04                 154659  \n",
      "1997-05                 122983  \n",
      "1997-06                 104657  \n",
      "1997-07                 163008  \n",
      "1997-08                 149116  \n",
      "1997-09                 144727  \n",
      "1997-10                 148500  \n",
      "1997-11                 120676  \n",
      "1997-12                 162135  \n"
     ]
    }
   ],
   "source": [
    "# Import pandas \n",
    "import pandas as pd\n",
    "pd.set_option(\"display.max_columns\",5)\n",
    "# Baca kedua dataset\n",
    "df_kunjungan = pd.read_csv(\"https://storage.googleapis.com/dqlab-dataset/kunjungan_dokter_gigi_kota_x_dqlab.tsv\", sep=\"\\t\")\n",
    "df_penjualan = pd.read_csv(\"https://storage.googleapis.com/dqlab-dataset/tingkat_penjualan_kota_x_dqlab.tsv\", sep=\"\\t\")\n",
    "# Gabungkan kolom Tahun dan Bulan menjadi kolom Periode dengan isi tiap barisnya memiliki format YYYY-MM \n",
    "str_bulan = lambda x: \"0\"+str(x) if x<10 else str(x)\n",
    "df_kunjungan[\"Periode\"] = df_kunjungan[\"Tahun\"].map(str) + \"-\" + df_kunjungan[\"Bulan\"].map(str_bulan)\n",
    "df_penjualan[\"Periode\"] = df_penjualan[\"Tahun\"].map(str) + \"-\" + df_penjualan[\"Bulan\"].map(str_bulan)\n",
    "# Drop kolom Tahun, Bulan dari df_kunjungan\n",
    "df_kunjungan.drop(columns=[\"Tahun\", \"Bulan\"], inplace=True)\n",
    "# Drop kolom Tahun, Bulan dan No dari df_penjualan\n",
    "df_penjualan.drop(columns=[\"Tahun\", \"Bulan\", \"No\"], inplace=True)\n",
    "\n",
    "# Set index kolom Periode\n",
    "df_kunjungan.set_index(\"Periode\", inplace=True)\n",
    "df_penjualan.set_index(\"Periode\", inplace=True)\n",
    "\n",
    "# Gabungkan kedua dataframe dengan Periode yang telah menjadi key column nya\n",
    "df = df_kunjungan.join(df_penjualan)\n",
    "print(\"Ukuran df:\", df.shape)\n",
    "print(df)\n"
   ]
  },
  {
   "cell_type": "code",
   "execution_count": null,
   "id": "09753629-f486-4c17-a70e-4f5ae7f75ada",
   "metadata": {},
   "outputs": [],
   "source": []
  }
 ],
 "metadata": {
  "kernelspec": {
   "display_name": "Python [conda env:base] *",
   "language": "python",
   "name": "conda-base-py"
  },
  "language_info": {
   "codemirror_mode": {
    "name": "ipython",
    "version": 3
   },
   "file_extension": ".py",
   "mimetype": "text/x-python",
   "name": "python",
   "nbconvert_exporter": "python",
   "pygments_lexer": "ipython3",
   "version": "3.12.7"
  }
 },
 "nbformat": 4,
 "nbformat_minor": 5
}
