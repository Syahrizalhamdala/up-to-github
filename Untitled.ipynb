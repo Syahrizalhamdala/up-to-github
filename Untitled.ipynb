{
 "cells": [
  {
   "cell_type": "code",
   "execution_count": 10,
   "id": "2287cffb-d96e-4710-9fb3-8d9e52fc10ae",
   "metadata": {},
   "outputs": [
    {
     "name": "stdout",
     "output_type": "stream",
     "text": [
      "Probabilitas x = 165 cm adalah 0.0551.\n",
      "Probabilitas kumulatif x = 165 cm adalah 0.7275.\n"
     ]
    }
   ],
   "source": [
    "# Gunakan kutip dua untuk setiap string\n",
    "import numpy as np\n",
    "# Importlah norm dari scipy.stats\n",
    "from scipy.stats import norm\n",
    "\n",
    "# Baca data survei_tinggi_badan.txt dengan numpy loadtxt\n",
    "tinggi_badan = np.loadtxt(\"https://storage.googleapis.com/dqlab-dataset/survei_tinggi_badan.txt\", skiprows=1)\n",
    "\n",
    "# Rata-rata dan standar deviasi unbiased tinggi_badan\n",
    "tb_mean = tinggi_badan.mean()\n",
    "tb_std = tinggi_badan.std(ddof=1)\n",
    "# Tentukanlah nilai probabilitas dan probabilitas kumulatif menggunakan \n",
    "# distribusi normal untuk tinggi badan, x = 165 cm\n",
    "x = 165\n",
    "pdf_x = norm.pdf(x, loc=tb_mean, scale=tb_std)\n",
    "cdf_x = norm.cdf(x, loc=tb_mean, scale=tb_std)\n",
    "print(\"Probabilitas x = %d cm adalah %.4f.\" % (x, pdf_x))\n",
    "print(\"Probabilitas kumulatif x = %d cm adalah %.4f.\" % (x, cdf_x))\n",
    "\n"
   ]
  },
  {
   "cell_type": "code",
   "execution_count": 16,
   "id": "1e1f4d1e-1823-4f7b-a06f-6c83e8eca162",
   "metadata": {},
   "outputs": [
    {
     "name": "stdout",
     "output_type": "stream",
     "text": [
      "Probabilitas x = 150 cm adalah 0.0112.\n",
      "Probabilitas kumulatif x = 150 cm adalah 0.0298.\n",
      "Probabilitas x = 170 cm adalah 0.0236.\n",
      "Probabilitas kumulatif x = 170 cm adalah 0.9243.\n"
     ]
    }
   ],
   "source": [
    "# Gunakan kutip dua untuk setiap string\n",
    "import numpy as np\n",
    "# Importlah norm dari scipy.stats\n",
    "from scipy.stats import norm\n",
    "\n",
    "# Baca data survei_tinggi_badan.txt dengan numpy loadtxt\n",
    "tinggi_badan = np.loadtxt(\"https://storage.googleapis.com/dqlab-dataset/survei_tinggi_badan.txt\", skiprows=1)\n",
    "\n",
    "# Rata-rata dan standar deviasi unbiased tinggi_badan\n",
    "tb_mean = tinggi_badan.mean()\n",
    "tb_std = tinggi_badan.std(ddof=1)\n",
    "# Tentukanlah nilai probabilitas dan probabilitas kumulatif menggunakan \n",
    "# distribusi normal untuk tinggi badan, 150 cm dan 170 cm\n",
    "x = [150, 170]\n",
    "pdf_x = norm.pdf(x, loc=tb_mean, scale=tb_std)\n",
    "cdf_x = norm.cdf(x, loc=tb_mean, scale=tb_std)\n",
    "for x_item, pdf, cdf in zip(x, pdf_x, cdf_x):\n",
    "    print(\"Probabilitas x = %d cm adalah %.4f.\" % (x_item, pdf))\n",
    "    print(\"Probabilitas kumulatif x = %d cm adalah %.4f.\" % (x_item, cdf))\n"
   ]
  },
  {
   "cell_type": "code",
   "execution_count": 18,
   "id": "b031a692-ec0c-46ee-bda5-7a2d44cad738",
   "metadata": {},
   "outputs": [
    {
     "name": "stdout",
     "output_type": "stream",
     "text": [
      "Area di bawah kurva pdf (-1s s/d 1s)\n",
      "  pdf(155.3249 <= x <= 167.3791) = 0.6827.\n",
      "\n",
      "Area di bawah kurva pdf (-2s s/d 2s)\n",
      "  pdf(149.2979 <= x <= 173.4061) = 0.9545.\n",
      "\n",
      "Area di bawah kurva pdf (-3s s/d 3s)\n",
      "  pdf(143.2708 <= x <= 179.4332) = 0.9973.\n",
      "\n"
     ]
    },
    {
     "name": "stderr",
     "output_type": "stream",
     "text": [
      "/var/folders/5w/k214r4993xl3wzxjph7c5hnc0000gn/T/ipykernel_43646/1239792908.py:13: DeprecationWarning: Conversion of an array with ndim > 0 to a scalar is deprecated, and will error in future. Ensure you extract a single element from your array before performing this operation. (Deprecated NumPy 1.25.)\n",
      "  print(\"  pdf(%.4f <= x <= %.4f) = %.4f.\\n\" % (*x, np.diff(cdf_x)))\n"
     ]
    }
   ],
   "source": [
    "import numpy as np\n",
    "from scipy.stats import norm\n",
    "\n",
    "tinggi_badan = np.loadtxt(\"https://storage.googleapis.com/dqlab-dataset/survei_tinggi_badan.txt\", skiprows=1)\n",
    "\n",
    "tb_mean = tinggi_badan.mean()\n",
    "tb_std = tinggi_badan.std(ddof=1)\n",
    "\n",
    "for i in range(1, 4):\n",
    "    x = tb_mean + np.array([-i, i]) * tb_std\n",
    "    cdf_x = norm.cdf(x, loc=tb_mean, scale=tb_std)\n",
    "    print(\"Area di bawah kurva pdf (%ds s/d %ds)\" % (-i, i))\n",
    "    print(\"  pdf(%.4f <= x <= %.4f) = %.4f.\\n\" % (*x, np.diff(cdf_x)))\n"
   ]
  },
  {
   "cell_type": "code",
   "execution_count": null,
   "id": "426e81b0-4689-488e-974c-30ac8189af4f",
   "metadata": {},
   "outputs": [],
   "source": []
  }
 ],
 "metadata": {
  "kernelspec": {
   "display_name": "Python [conda env:base] *",
   "language": "python",
   "name": "conda-base-py"
  },
  "language_info": {
   "codemirror_mode": {
    "name": "ipython",
    "version": 3
   },
   "file_extension": ".py",
   "mimetype": "text/x-python",
   "name": "python",
   "nbconvert_exporter": "python",
   "pygments_lexer": "ipython3",
   "version": "3.12.7"
  }
 },
 "nbformat": 4,
 "nbformat_minor": 5
}
