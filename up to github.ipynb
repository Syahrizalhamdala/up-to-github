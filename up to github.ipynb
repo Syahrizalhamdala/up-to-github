{
 "cells": [
  {
   "attachments": {},
   "cell_type": "markdown",
   "id": "d32dcd21-73b1-4e6a-ac57-14850855ca09",
   "metadata": {},
   "source": [
    "<center>\n",
    "    <img src=\"https://hmti.helllo.me/assets/logo-about.svg\" width=\"200\"\n",
    "        </center>\n",
    "<table>\n",
    "    <tr>\n",
    "        <td>NAMA </td>\n",
    "        <td>:</td>\n",
    "        <td>SYAHRIZAL HAMDALA </td>   \n",
    "    </tr>\n",
    "    <tr>\n",
    "        <td>NIM</td>\n",
    "        <td>:</td>\n",
    "        <td>20240040310</td>\n",
    "    </tr>\n",
    "    <tr>\n",
    "        <td>KELAS</td>\n",
    "        <td>:</td>\n",
    "        <td>TI24F</td>\n",
    "    </tr>\n",
    "    <tr>\n",
    "        <td>PRODI</td>\n",
    "        <td>:</td>\n",
    "        <td>TEKNIK INFORMATIKA</td>\n",
    "    </tr>\n",
    "</table>\n",
    "<hr>"
   ]
  },
  {
   "cell_type": "code",
   "execution_count": null,
   "id": "b7834f49-2311-465b-b4b5-837c1078bb00",
   "metadata": {},
   "outputs": [],
   "source": []
  },
  {
   "cell_type": "code",
   "execution_count": null,
   "id": "432c1cdb-9c44-48db-9f95-8c64fb1dbb67",
   "metadata": {},
   "outputs": [],
   "source": []
  }
 ],
 "metadata": {
  "kernelspec": {
   "display_name": "Python [conda env:base] *",
   "language": "python",
   "name": "conda-base-py"
  },
  "language_info": {
   "codemirror_mode": {
    "name": "ipython",
    "version": 3
   },
   "file_extension": ".py",
   "mimetype": "text/x-python",
   "name": "python",
   "nbconvert_exporter": "python",
   "pygments_lexer": "ipython3",
   "version": "3.12.7"
  }
 },
 "nbformat": 4,
 "nbformat_minor": 5
}
