{
 "cells": [
  {
   "cell_type": "code",
   "execution_count": 1,
   "id": "77b20e8a-a58a-418e-94b5-b076f5004749",
   "metadata": {},
   "outputs": [
    {
     "ename": "ModuleNotFoundError",
     "evalue": "No module named 'caas_jupyter_tools'",
     "output_type": "error",
     "traceback": [
      "\u001b[0;31m---------------------------------------------------------------------------\u001b[0m",
      "\u001b[0;31mModuleNotFoundError\u001b[0m                       Traceback (most recent call last)",
      "Cell \u001b[0;32mIn[1], line 35\u001b[0m\n\u001b[1;32m     32\u001b[0m df[\u001b[38;5;124m\"\u001b[39m\u001b[38;5;124mstatus_rekomendasi\u001b[39m\u001b[38;5;124m\"\u001b[39m] \u001b[38;5;241m=\u001b[39m df\u001b[38;5;241m.\u001b[39mapply(rekomendasi, axis\u001b[38;5;241m=\u001b[39m\u001b[38;5;241m1\u001b[39m)\n\u001b[1;32m     34\u001b[0m \u001b[38;5;66;03m# Tampilkan ke user\u001b[39;00m\n\u001b[0;32m---> 35\u001b[0m \u001b[38;5;28;01mimport\u001b[39;00m \u001b[38;5;21;01mcaas_jupyter_tools\u001b[39;00m \u001b[38;5;28;01mas\u001b[39;00m \u001b[38;5;21;01mtools\u001b[39;00m; tools\u001b[38;5;241m.\u001b[39mdisplay_dataframe_to_user(name\u001b[38;5;241m=\u001b[39m\u001b[38;5;124m\"\u001b[39m\u001b[38;5;124mData Jadwal dan Rekomendasi\u001b[39m\u001b[38;5;124m\"\u001b[39m, dataframe\u001b[38;5;241m=\u001b[39mdf)\n",
      "\u001b[0;31mModuleNotFoundError\u001b[0m: No module named 'caas_jupyter_tools'"
     ]
    }
   ],
   "source": [
    "# Import ulang setelah reset\n",
    "import pandas as pd\n",
    "\n",
    "# Buat data dummy untuk jadwal dokter\n",
    "data = {\n",
    "    \"id_dokter\": [\"D001\", \"D002\", \"D003\", \"D001\"],\n",
    "    \"nama_dokter\": [\"dr. Andi\", \"dr. Budi\", \"dr. Clara\", \"dr. Andi\"],\n",
    "    \"spesialis\": [\"Umum\", \"Anak\", \"Gigi\", \"Umum\"],\n",
    "    \"hari\": [\"Senin\", \"Selasa\", \"Rabu\", \"Rabu\"],\n",
    "    \"jam_mulai\": [\"08:00\", \"09:00\", \"10:00\", \"08:00\"],\n",
    "    \"jam_selesai\": [\"12:00\", \"13:00\", \"14:00\", \"12:00\"],\n",
    "    \"jumlah_pasien\": [35, 18, 25, 28],\n",
    "    \"lama_konsultasi_menit\": [10, 15, 20, 10],\n",
    "    \"ketersediaan\": [True, True, True, False],\n",
    "    \"max_pasien\": [30, 20, 24, 30],\n",
    "    \"poli\": [\"Poli Umum\", \"Poli Anak\", \"Poli Gigi\", \"Poli Umum\"],\n",
    "    \"status_rekomendasi\": [\"\", \"\", \"\", \"\"]\n",
    "}\n",
    "\n",
    "df = pd.DataFrame(data)\n",
    "\n",
    "# Logika sederhana rekomendasi jadwal\n",
    "def rekomendasi(row):\n",
    "    if row[\"jumlah_pasien\"] > row[\"max_pasien\"]:\n",
    "        if row[\"ketersediaan\"]:\n",
    "            return \"Tambah Shift\"\n",
    "        else:\n",
    "            return \"Geser Hari\"\n",
    "    else:\n",
    "        return \"Tetap\"\n",
    "\n",
    "df[\"status_rekomendasi\"] = df.apply(rekomendasi, axis=1)\n",
    "\n",
    "# Tampilkan ke user\n",
    "import caas_jupyter_tools as tools; tools.display_dataframe_to_user(name=\"Data Jadwal dan Rekomendasi\", dataframe=df)\n"
   ]
  },
  {
   "cell_type": "code",
   "execution_count": null,
   "id": "b718d40b-c17c-46fc-ad17-431df8c30656",
   "metadata": {},
   "outputs": [],
   "source": []
  }
 ],
 "metadata": {
  "kernelspec": {
   "display_name": "Python [conda env:base] *",
   "language": "python",
   "name": "conda-base-py"
  },
  "language_info": {
   "codemirror_mode": {
    "name": "ipython",
    "version": 3
   },
   "file_extension": ".py",
   "mimetype": "text/x-python",
   "name": "python",
   "nbconvert_exporter": "python",
   "pygments_lexer": "ipython3",
   "version": "3.12.7"
  }
 },
 "nbformat": 4,
 "nbformat_minor": 5
}
