{
 "cells": [
  {
   "cell_type": "markdown",
   "id": "3a9bc52d-07ee-411d-85d8-1d8cd69cef6d",
   "metadata": {},
   "source": [
    "<h1>Biodata Sederhana</h1>"
   ]
  },
  {
   "cell_type": "code",
   "execution_count": 17,
   "id": "4676d207-f199-47cb-a708-b40fc747d4d2",
   "metadata": {},
   "outputs": [
    {
     "name": "stdin",
     "output_type": "stream",
     "text": [
      "Masukkan nama Anda:  aril\n",
      "Masukkan usia Anda:  20\n",
      "Masukkan alamat Anda:  cibolang\n",
      "Masukkan pekerjaan Anda:  mahasiswa\n"
     ]
    },
    {
     "name": "stdout",
     "output_type": "stream",
     "text": [
      "\n",
      "Biodata:\n",
      "Nama: aril\n",
      "Usia: 20 tahun\n",
      "Alamat: cibolang\n",
      "Pekerjaan: mahasiswa\n",
      "\n"
     ]
    }
   ],
   "source": [
    "nama = input(\"Masukkan nama Anda: \")\n",
    "umur = input(\"Masukkan umur Anda: \")\n",
    "alamat = input(\"Masukkan alamat Anda: \")\n",
    "pekerjaan = input(\"Masukkan pekerjaan Anda: \")\n",
    "\n",
    "biodata = \"\"\"\n",
    "Biodata:\n",
    "Nama: {}\n",
    "Usia: {} tahun\n",
    "Alamat: {}\n",
    "Pekerjaan: {}\n",
    "\"\"\".format(nama, umur, alamat, pekerjaan)\n",
    "\n",
    "print(biodata)"
   ]
  },
  {
   "cell_type": "markdown",
   "id": "0743ccc4-33ba-4a1c-bbef-6f62ec26e2ed",
   "metadata": {},
   "source": [
    "<h1>Manipulasi String</h1>\n"
   ]
  },
  {
   "cell_type": "code",
   "execution_count": 45,
   "id": "2f3084e6-f282-4ba0-aedd-860a910e6b7e",
   "metadata": {},
   "outputs": [
    {
     "name": "stdout",
     "output_type": "stream",
     "text": [
      "a. usa p as n\n",
      "b. NIVERSITAS NUS  PUT A SUKABUMI\n",
      "c. A SUKABUMI  PUT NUS UNIVERSITAS\n",
      "d. UN A\n",
      "e. VER SAU A SUKABUMI\n"
     ]
    }
   ],
   "source": [
    "kalimat = \"\"\n",
    "\n",
    "# a. putra nusa\n",
    "a = kalimat[13:18].lower() + \" \" + kalimat[9:13].lower()\n",
    "print(\"a.\", a)\n",
    "\n",
    "# b. NIVERSITAS NSA PTRA SKABMI\n",
    "b = kalimat[1:11] + \" \" + kalimat[12:15] + \" \" + kalimat[16:20] + \" \" + kalimat[21:]\n",
    "print(\"b.\", b)\n",
    "\n",
    "# c. SUKABUMI PUTRA NUSA UNIVERSITAS\n",
    "c = kalimat[21:] + \" \" + kalimat[16:20] + \" \" + kalimat[12:15] + \" \" + kalimat[0:11]\n",
    "print(\"c.\", c)\n",
    "\n",
    "# d. UNPS\n",
    "d = kalimat[0] + kalimat[12] + kalimat[16] + kalimat[21]\n",
    "print(\"d.\", d)\n",
    "\n",
    "# e. TAS SAPU BUMI\n",
    "e = kalimat[3:6] + \" \" + kalimat[14:16] + kalimat[18:19] + \" \" + kalimat[21:]\n",
    "print(\"e.\", e)"
   ]
  },
  {
   "cell_type": "code",
   "execution_count": null,
   "id": "adb66037-203d-4d2b-ac82-0fb02be4b133",
   "metadata": {},
   "outputs": [],
   "source": []
  },
  {
   "cell_type": "code",
   "execution_count": null,
   "id": "9e3164d8-36b7-424b-9ad6-fe303e7dfa79",
   "metadata": {},
   "outputs": [],
   "source": []
  }
 ],
 "metadata": {
  "kernelspec": {
   "display_name": "Python [conda env:base] *",
   "language": "python",
   "name": "conda-base-py"
  },
  "language_info": {
   "codemirror_mode": {
    "name": "ipython",
    "version": 3
   },
   "file_extension": ".py",
   "mimetype": "text/x-python",
   "name": "python",
   "nbconvert_exporter": "python",
   "pygments_lexer": "ipython3",
   "version": "3.12.7"
  }
 },
 "nbformat": 4,
 "nbformat_minor": 5
}
