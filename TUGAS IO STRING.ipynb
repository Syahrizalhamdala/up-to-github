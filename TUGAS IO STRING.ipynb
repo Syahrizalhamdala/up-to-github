{
 "cells": [
  {
   "cell_type": "markdown",
   "id": "3a9bc52d-07ee-411d-85d8-1d8cd69cef6d",
   "metadata": {},
   "source": [
    "<h1>Biodata Sederhana</h1>"
   ]
  },
  {
   "cell_type": "code",
   "execution_count": 17,
   "id": "4676d207-f199-47cb-a708-b40fc747d4d2",
   "metadata": {},
   "outputs": [
    {
     "name": "stdin",
     "output_type": "stream",
     "text": [
      "Masukkan nama Anda:  aril\n",
      "Masukkan usia Anda:  20\n",
      "Masukkan alamat Anda:  cibolang\n",
      "Masukkan pekerjaan Anda:  mahasiswa\n"
     ]
    },
    {
     "name": "stdout",
     "output_type": "stream",
     "text": [
      "\n",
      "Biodata:\n",
      "Nama: aril\n",
      "Usia: 20 tahun\n",
      "Alamat: cibolang\n",
      "Pekerjaan: mahasiswa\n",
      "\n"
     ]
    }
   ],
   "source": [
    "nama = input(\"Masukkan nama Anda: \")\n",
    "umur = input(\"Masukkan umur Anda: \")\n",
    "alamat = input(\"Masukkan alamat Anda: \")\n",
    "pekerjaan = input(\"Masukkan pekerjaan Anda: \")\n",
    "\n",
    "biodata = \"\"\"\n",
    "Biodata:\n",
    "Nama: {}\n",
    "Usia: {} tahun\n",
    "Alamat: {}\n",
    "Pekerjaan: {}\n",
    "\"\"\".format(nama, umur, alamat, pekerjaan)\n",
    "\n",
    "print(biodata)"
   ]
  },
  {
   "cell_type": "markdown",
   "id": "0743ccc4-33ba-4a1c-bbef-6f62ec26e2ed",
   "metadata": {},
   "source": [
    "<h1>Manipulasi String</h1>\n"
   ]
  },
  {
   "cell_type": "code",
   "execution_count": 1,
   "id": "2f3084e6-f282-4ba0-aedd-860a910e6b7e",
   "metadata": {},
   "outputs": [
    {
     "name": "stdout",
     "output_type": "stream",
     "text": [
      "a. putra nusa\n",
      "b. NIVERSITAS NSA PTRA SKABMI\n",
      "c. SUKABUMI NUSA PUTRA UNIVERSITAS\n",
      "d. UNPS\n",
      "e. TAS SAPU BUMI\n"
     ]
    }
   ],
   "source": [
    "kalimat = \"UNIVERSITAS NUSA PUTRA SUKABUMI\"\n",
    "\n",
    "if kalimat == \"UNIVERSITAS NUSA PUTRA SUKABUMI\":\n",
    "    splitAndLower = kalimat.split(\" \")\n",
    "    splitAndLower = splitAndLower[1:3]\n",
    "    splitAndLower[0],splitAndLower[1] = splitAndLower[1],splitAndLower[0]\n",
    "    splitAndLower = \" \".join(splitAndLower)\n",
    "    splitAndLower = splitAndLower.lower()\n",
    "    #########################################################\n",
    "    replaceU = kalimat.replace(\"U\", \"\")\n",
    "    #########################################################\n",
    "    threeToOne = kalimat.split(\" \")\n",
    "    threeToOne[0],threeToOne[3] = threeToOne[3],threeToOne[0]\n",
    "    threeToOne = \" \".join(threeToOne)\n",
    "    #########################################################\n",
    "    firstLetter = kalimat.split(\" \")\n",
    "    firstLetter = firstLetter[0][0], firstLetter[1][0], firstLetter[2][0], firstLetter[3][0]\n",
    "    firstLetter = \"\".join(firstLetter)\n",
    "    #########################################################\n",
    "    splice = kalimat[8:11], kalimat[14:19], kalimat[27:31]\n",
    "    splice = splice[0], splice[1].replace(\" \", \"\"), splice[2]\n",
    "    splice = \" \".join(splice)\n",
    "    #########################################################\n",
    "    print(\"a.\",splitAndLower)\n",
    "    print(\"b.\",replaceU)\n",
    "    print(\"c.\",threeToOne)\n",
    "    print(\"d.\",firstLetter)\n",
    "    print(\"e.\",splice)"
   ]
  },
  {
   "cell_type": "code",
   "execution_count": null,
   "id": "adb66037-203d-4d2b-ac82-0fb02be4b133",
   "metadata": {},
   "outputs": [],
   "source": []
  },
  {
   "cell_type": "raw",
   "id": "5de5d281-2441-4182-984c-bef61dea0841",
   "metadata": {},
   "source": []
  }
 ],
 "metadata": {
  "kernelspec": {
   "display_name": "Python [conda env:base] *",
   "language": "python",
   "name": "conda-base-py"
  },
  "language_info": {
   "codemirror_mode": {
    "name": "ipython",
    "version": 3
   },
   "file_extension": ".py",
   "mimetype": "text/x-python",
   "name": "python",
   "nbconvert_exporter": "python",
   "pygments_lexer": "ipython3",
   "version": "3.12.7"
  }
 },
 "nbformat": 4,
 "nbformat_minor": 5
}
