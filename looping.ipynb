{
 "cells": [
  {
   "cell_type": "markdown",
   "id": "261b674d-e9c7-43a4-b79e-192e4d9c2aaf",
   "metadata": {},
   "source": [
    "<h1> variabel in collection</h1>"
   ]
  },
  {
   "cell_type": "code",
   "execution_count": 17,
   "id": "fcf9e391-65e3-47ab-9ffe-abb0604c19d8",
   "metadata": {},
   "outputs": [
    {
     "name": "stdout",
     "output_type": "stream",
     "text": [
      "nama buah : apel\n",
      "nama buah : pisang\n",
      "nama buah : melon\n",
      "nama buah : nanas\n"
     ]
    }
   ],
   "source": [
    "fruits = [\"apel\",\"pisang\",\"melon\",\"nanas\"]\n",
    "for fruit in fruits:\n",
    "    print(f\"nama buah : {fruit}\")\n"
   ]
  },
  {
   "cell_type": "code",
   "execution_count": 21,
   "id": "a054c753-1a76-40d6-b8ee-28a1958ba78a",
   "metadata": {},
   "outputs": [
    {
     "name": "stdout",
     "output_type": "stream",
     "text": [
      "Nilai Rata rata : 71.42857142857143\n"
     ]
    }
   ],
   "source": [
    "nilaiPython = [80,100,90,70,70,50,40]\n",
    "total = 0\n",
    "for nilai in nilaiPython:\n",
    "    total += nilai\n",
    "rata_rata = total / len(nilaiPython)\n",
    "print(f\"Nilai Rata rata : {rata_rata}\")"
   ]
  },
  {
   "cell_type": "markdown",
   "id": "963052b5-0f72-47e1-a495-5fdeb55e4de2",
   "metadata": {},
   "source": [
    "<h1>enumerate</h1>"
   ]
  },
  {
   "cell_type": "code",
   "execution_count": 26,
   "id": "6146caff-d03c-4ba0-8b0c-c0ba1e20414d",
   "metadata": {},
   "outputs": [
    {
     "name": "stdout",
     "output_type": "stream",
     "text": [
      "0:Jan\n",
      "1:Feb\n",
      "2:Mar\n",
      "3:Apr\n",
      "4:May\n",
      "5:Jun\n",
      "6:Jul\n",
      "7:Aug\n",
      "8:Sep\n",
      "9:Okt\n",
      "10:Nov\n",
      "11:Des\n"
     ]
    }
   ],
   "source": [
    "month = [\"Jan\",\"Feb\",\"Mar\",\"Apr\",\"May\",\"Jun\",\"Jul\",\"Aug\",\"Sep\",\"Okt\",\"Nov\",\"Des\"]\n",
    "for i, m in enumerate(month):\n",
    "    print(f\"{i}:{m}\")\n"
   ]
  },
  {
   "cell_type": "code",
   "execution_count": null,
   "id": "ce8970c6-da76-44d2-8a08-3133147ebc8d",
   "metadata": {},
   "outputs": [],
   "source": [
    "Nama = input(\"Nama Anda\")\n",
    "listVokal = [\"a\",\"i\",\"u\",\"e\",\"o\"]\n",
    "isVokal =\"\"\n",
    "total = 0\n",
    "\n",
    "for karekter in Nama:\n",
    "    if karekter in listVokal:\n",
    "        total += 1\n",
    "        isVokal = \"Huruf Vokal\"\n",
    "    else:\n",
    "        isVokal = \"Bukan huruf Vokal\"\n",
    "    print(f\"{karekter} adalah {isVokal}|Total:{total}\")\n",
    "print(f\"Jumlah Total huruf Vokal : {total}\")"
   ]
  },
  {
   "cell_type": "markdown",
   "id": "d961da2c-2630-4b2b-9623-2aedc206ad52",
   "metadata": {},
   "source": [
    "<h1>Looping List Comprehension</h1>"
   ]
  },
  {
   "cell_type": "code",
   "execution_count": 45,
   "id": "ec5b19ae-bb5a-4b94-8d33-e97a98ba4799",
   "metadata": {},
   "outputs": [
    {
     "name": "stdout",
     "output_type": "stream",
     "text": [
      "[1, 4, 9, 16, 25]\n"
     ]
    }
   ],
   "source": [
    "data = [1,2,3,4,5]\n",
    "pangkat = [t**2 for t in data]\n",
    "print(pangkat)\n",
    "           "
   ]
  },
  {
   "cell_type": "markdown",
   "id": "ca9a7232-eeb5-4b7c-a9ad-1f33322fe9ab",
   "metadata": {},
   "source": [
    "<h1> Range</h1>"
   ]
  },
  {
   "cell_type": "code",
   "execution_count": 48,
   "id": "3c682ef2-b2d7-49c3-a2a7-c87fd700b2a8",
   "metadata": {},
   "outputs": [
    {
     "name": "stdout",
     "output_type": "stream",
     "text": [
      "Nilai i adalah:0\n",
      "Nilai i adalah:1\n",
      "Nilai i adalah:2\n",
      "Nilai i adalah:3\n",
      "Nilai i adalah:4\n",
      "Nilai i adalah:5\n",
      "Nilai i adalah:6\n",
      "Nilai i adalah:7\n",
      "Nilai i adalah:8\n",
      "Nilai i adalah:9\n"
     ]
    }
   ],
   "source": [
    "for i in range(10):\n",
    "    print(f\"Nilai i adalah:{i}\")\n"
   ]
  },
  {
   "cell_type": "code",
   "execution_count": 54,
   "id": "f30f197d-5d20-4da8-bc84-39f21da4768b",
   "metadata": {},
   "outputs": [
    {
     "name": "stdout",
     "output_type": "stream",
     "text": [
      "nilai i : 5\n",
      "nilai i : 6\n",
      "nilai i : 7\n",
      "nilai i : 8\n",
      "nilai i : 9\n"
     ]
    }
   ],
   "source": [
    "for i in range(5,10):\n",
    "    print(f\"nilai i : {i}\")"
   ]
  },
  {
   "cell_type": "code",
   "execution_count": 58,
   "id": "45d99db7-c2a5-49ea-a3a2-6e2f894e4089",
   "metadata": {},
   "outputs": [
    {
     "name": "stdin",
     "output_type": "stream",
     "text": [
      "Isikan Bilangan: 7\n"
     ]
    },
    {
     "name": "stdout",
     "output_type": "stream",
     "text": [
      "7 ini adalah bilangan prima\n"
     ]
    }
   ],
   "source": [
    "#Cek bilangan prima dan bukan prima\n",
    "\n",
    "number = int(input(\"Isikan Bilangan:\"))\n",
    "faktor =0\n",
    "for i in range(1,number+1):\n",
    "    if number % i == 0:\n",
    "        faktor += 1\n",
    "if faktor == 2:\n",
    "    print(f\"{number} ini adalah bilangan prima\")\n",
    "else:\n",
    "    print(f\"{number} ini bukan bilangan prima\")\n",
    "\n"
   ]
  },
  {
   "cell_type": "code",
   "execution_count": 60,
   "id": "38d426cc-43cb-4937-a4bb-ceec17cc27e8",
   "metadata": {},
   "outputs": [
    {
     "name": "stdin",
     "output_type": "stream",
     "text": [
      "bilanga 4\n"
     ]
    },
    {
     "name": "stdout",
     "output_type": "stream",
     "text": [
      "4i = 24\n"
     ]
    }
   ],
   "source": [
    "# Faktorial\n",
    "# 3! = 3 * 2 * 1 = 6\n",
    "\n",
    "total = 1\n",
    "number = int(input(\"bilanga\"))\n",
    "for i in range(1,number+1):\n",
    "    total *= i\n",
    "print(f\"{number}i = {total}\")\n",
    "\n"
   ]
  },
  {
   "cell_type": "code",
   "execution_count": 72,
   "id": "c9338b26-3612-46bd-987b-121fa37cb1aa",
   "metadata": {},
   "outputs": [
    {
     "name": "stdin",
     "output_type": "stream",
     "text": [
      "isikan bilangan 10\n"
     ]
    },
    {
     "name": "stdout",
     "output_type": "stream",
     "text": [
      "1 -2 3 -4 5 -6 7 -8 9 -10 "
     ]
    }
   ],
   "source": [
    "# 1 -2 3 -4 5 -6 7 -8 9 -10\n",
    "\n",
    "number = int(input(\"isikan bilangan\"))\n",
    "sign = 1\n",
    "for i in range(1,number+1):\n",
    "    result = sign * i\n",
    "    print(f\"{result} \", end=\"\")\n",
    "    sign *= -1"
   ]
  },
  {
   "cell_type": "code",
   "execution_count": 76,
   "id": "1ae1bc1f-0c0d-4f35-add5-2be6914bf6d5",
   "metadata": {},
   "outputs": [
    {
     "name": "stdout",
     "output_type": "stream",
     "text": [
      "Jumlah penonton laki laki: 4\n",
      "Jumlah penonton perempuan: 3\n"
     ]
    }
   ],
   "source": [
    "kursiBioskop = [\"L\",\"P\",\"P\",\"L\",\"L\",\"P\",\"L\"]\n",
    "\n",
    "# hitung jumlah kursi laki\"\n",
    "# hitung jumlah kursi perampuan\n",
    "\n",
    "totalLaki = 0\n",
    "for jenis in kursiBioskop:\n",
    "    if jenis==\"L\":\n",
    "        totalLaki +=1\n",
    "\n",
    "print(f\"Jumlah penonton laki laki: {totalLaki}\")\n",
    "print(f\"Jumlah penonton perempuan: {len(kursiBioskop)-(totalLaki)}\")\n",
    "    "
   ]
  },
  {
   "cell_type": "code",
   "execution_count": 82,
   "id": "bf433865-a5c5-4128-8621-7e5b7a576f4d",
   "metadata": {},
   "outputs": [
    {
     "name": "stdout",
     "output_type": "stream",
     "text": [
      "4\n"
     ]
    }
   ],
   "source": [
    "# hitung jumlah orang yang kemungkinan berpasangan\n",
    "\n",
    "kursi = [\"L\",\"P\",\"P\",\"L\",\"L\",\"P\",\"L\"]\n",
    "totalCouple = 0\n",
    "for i in range(len(kursi)-1):\n",
    "    if kursi[i] != kursi[i+1]:\n",
    "        totalCouple += 1\n",
    "\n",
    "print(totalCouple)"
   ]
  },
  {
   "cell_type": "code",
   "execution_count": 86,
   "id": "b549f4ad-c105-49b2-9826-553aa7edb995",
   "metadata": {},
   "outputs": [
    {
     "name": "stdout",
     "output_type": "stream",
     "text": [
      "Iname :Syahrizal\n",
      "Gname :Hamdala\n"
     ]
    }
   ],
   "source": [
    "data = {\n",
    "    \"Iname\" : \"Syahrizal\",\n",
    "    \"Gname\" : \"Hamdala\"\n",
    "}\n",
    "for key,value in data.items():\n",
    "    print(f\"{key} :{value}\")"
   ]
  },
  {
   "cell_type": "code",
   "execution_count": null,
   "id": "8ac9988c-cb01-44fe-abae-5269cf7d6f8f",
   "metadata": {},
   "outputs": [],
   "source": []
  }
 ],
 "metadata": {
  "kernelspec": {
   "display_name": "Python [conda env:base] *",
   "language": "python",
   "name": "conda-base-py"
  },
  "language_info": {
   "codemirror_mode": {
    "name": "ipython",
    "version": 3
   },
   "file_extension": ".py",
   "mimetype": "text/x-python",
   "name": "python",
   "nbconvert_exporter": "python",
   "pygments_lexer": "ipython3",
   "version": "3.12.7"
  }
 },
 "nbformat": 4,
 "nbformat_minor": 5
}
