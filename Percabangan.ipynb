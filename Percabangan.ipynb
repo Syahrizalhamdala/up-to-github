{
 "cells": [
  {
   "cell_type": "markdown",
   "id": "24dc0c6e-122f-490d-beef-124975f3dc41",
   "metadata": {},
   "source": [
    "<h1>latihan percabangan</h1>"
   ]
  },
  {
   "cell_type": "code",
   "execution_count": 11,
   "id": "a3778eb6-d0e6-456b-abae-7fabc711cb7d",
   "metadata": {},
   "outputs": [
    {
     "name": "stdin",
     "output_type": "stream",
     "text": [
      "Isikan umur anda : -2\n"
     ]
    },
    {
     "name": "stdout",
     "output_type": "stream",
     "text": [
      "umur tidak valid\n"
     ]
    }
   ],
   "source": [
    "usia = int(input(\"Isikan umur anda :\"))\n",
    "if usia >=0:\n",
    "   if usia <= 12:\n",
    "     print(\"Kategori : Anak\")\n",
    "   elif usia <= 17:\n",
    "     print(\"Kategori : Remaja\")\n",
    "   elif usia <= 59:\n",
    "     print(\"Kategori : Dewasa\")\n",
    "   else:\n",
    "     print(\"Kategori : Lansia\")\n",
    "else:\n",
    "    print(\"umur tidak valid\")\n",
    "     \n",
    "\n"
   ]
  },
  {
   "cell_type": "code",
   "execution_count": 25,
   "id": "54533161-2361-4707-85c3-efdf0c3b628e",
   "metadata": {},
   "outputs": [
    {
     "name": "stdin",
     "output_type": "stream",
     "text": [
      "Isikan umur tiket 1 : 90\n",
      "Isikan umur tiket 2 : 88\n",
      "Isikan umur tiket 3 : 77\n"
     ]
    },
    {
     "name": "stdout",
     "output_type": "stream",
     "text": [
      "gratis\n",
      "gratis\n",
      "gratis\n",
      "total biaya : 0\n"
     ]
    }
   ],
   "source": [
    "tiket1 = int(input(\"Isikan umur tiket 1 :\"))\n",
    "tiket2 = int(input(\"Isikan umur tiket 2 :\"))\n",
    "tiket3 = int(input(\"Isikan umur tiket 3 :\"))\n",
    "\n",
    "totalBiaya =0\n",
    "\n",
    "if tiket1 <= 12:\n",
    "        print(\"tiket1 = 10.000\")\n",
    "        totalBiaya = totalBiaya + 10.000\n",
    "elif tiket1 <=17:\n",
    "        print(\"tiket2 = 15.000\")\n",
    "        totalBiaya = totalBiaya + 15.000\n",
    "elif tiket1 <= 59:\n",
    "        print(\"tiket3 = 25.000\")\n",
    "        totalBiaya = totalBiaya + 25.000\n",
    "else:\n",
    "    print(\"gratis\")\n",
    "#######################################   \n",
    "if tiket2 <= 12:\n",
    "        print(\"tiket1 = 10.000\")\n",
    "        totalBiaya = totalBiaya + 10.000\n",
    "elif tiket2 <=17:\n",
    "        print(\"tiket2 = 15.000\")\n",
    "        totalBiaya = totalBiaya + 15.000\n",
    "elif tiket2 <= 59:\n",
    "        print(\"tiket3 = 25.000\")\n",
    "        totalBiaya = totalBiaya + 25.000\n",
    "else:\n",
    "    print(\"gratis\")\n",
    "######################################\n",
    "if tiket3 <= 12:\n",
    "        print(\"tiket1 = 10.000\")\n",
    "        totalBiaya = totalBiaya + 10.000\n",
    "elif tiket3 <=17:\n",
    "        print(\"tiket2 = 15.000\")\n",
    "        totalBiaya = totalBiaya + 15.000\n",
    "elif tiket3 <= 59:\n",
    "        print(\"tiket3 = 25.000\")\n",
    "        totalBiaya = totalBiaya + 25.000\n",
    "else:\n",
    "    print(\"gratis\")\n",
    "\n",
    "print(f\"total biaya : {totalBiaya}\")"
   ]
  },
  {
   "cell_type": "markdown",
   "id": "ee7935f9-c0ed-4af0-813e-aa796dab19cb",
   "metadata": {},
   "source": [
    "<h1>Program beasiswa</h1>"
   ]
  },
  {
   "cell_type": "code",
   "execution_count": 40,
   "id": "3293cba8-9184-437b-8210-44b334502ef7",
   "metadata": {},
   "outputs": [
    {
     "name": "stdin",
     "output_type": "stream",
     "text": [
      "Masukkan Nilai 20\n",
      "Masukkan Gaji 200000\n"
     ]
    },
    {
     "name": "stdout",
     "output_type": "stream",
     "text": [
      "tidak dapat beasiswa\n"
     ]
    }
   ],
   "source": [
    "nilai = int(input(\"Masukkan Nilai\"))\n",
    "gaji = int(input(\"Masukkan Gaji\"))\n",
    "\n",
    "\n",
    "if nilai >=90 and gaji < 5_000_000:\n",
    "    print(\"Beasiswa penuh\")\n",
    "elif nilai >= 85 and gaji < 8_000_000:\n",
    "    print(\"beasiswa 50%\")\n",
    "else:\n",
    "    print(\"tidak dapat beasiswa\")"
   ]
  },
  {
   "cell_type": "markdown",
   "id": "a009618f-287c-4720-89a4-9d20496bd2bd",
   "metadata": {},
   "source": [
    "<h1>Program parkir</h1>"
   ]
  },
  {
   "cell_type": "code",
   "execution_count": 65,
   "id": "e3a11b58-9c3f-4606-a7e3-96cb1d07f434",
   "metadata": {},
   "outputs": [
    {
     "name": "stdin",
     "output_type": "stream",
     "text": [
      "isikan motor/mobil :  motor\n",
      "Jam Masuk : 12\n",
      "Jam Keluar : 16\n"
     ]
    },
    {
     "name": "stdout",
     "output_type": "stream",
     "text": [
      "Tarif motor : 2000\n",
      "lama parkir 4 jam\n",
      "Tambahan Biaya Lebih Dari 5 Jam: 10000\n",
      "Total tarif parkir : 8000\n"
     ]
    }
   ],
   "source": [
    "jenisKendaraan = input(\"isikan motor/mobil : \")\n",
    "jamMasuk = int(input(\"Jam Masuk :\"))\n",
    "jamKeluar = int(input(\"Jam Keluar :\"))\n",
    "tarifPerjam = 0\n",
    "\n",
    "if jenisKendaraan == \"motor\":\n",
    "    tarifPerjam = 2000\n",
    "    \n",
    "elif jenisKendaraan == \"mobil\":\n",
    "    tarifPerjam = 5000\n",
    "else:\n",
    "    print(\"tidak menerima selain mobil/motor\")\n",
    "\n",
    "if jamMasuk > jamKeluar:\n",
    "    print(\"Input jam masuk/keluar salah\")\n",
    "else:\n",
    "    totalTarif = (jamKeluar - jamMasuk ) * tarifPerjam\n",
    "    \n",
    "print(f\"Tarif {jenisKendaraan} : {tarifPerjam}\")\n",
    "print(f\"lama parkir {jamKeluar-jamMasuk} jam\")\n",
    "\n",
    "if jamKeluar - jamMasuk > 5:\n",
    "    totalTarif += 10000\n",
    "    \n",
    "print(\"Tambahan Biaya Lebih Dari 5 Jam: 10000\")\n",
    "print(f\"Total tarif parkir : {totalTarif}\")"
   ]
  },
  {
   "cell_type": "code",
   "execution_count": 79,
   "id": "e108aef0-cdc9-4e9e-9184-1454111b616e",
   "metadata": {},
   "outputs": [
    {
     "name": "stdin",
     "output_type": "stream",
     "text": [
      "Nomor Punggung 190\n"
     ]
    },
    {
     "name": "stdout",
     "output_type": "stream",
     "text": [
      "Kamu mempunyai pilihan posisi : Target Attacker,\n"
     ]
    }
   ],
   "source": [
    "nomorPunggung = int(input(\"Nomor Punggung\"))\n",
    "posisi = \"\"\n",
    "if nomorPunggung % 2 == 0:\n",
    "    posisi += \"Target Attacker,\"\n",
    "    if nomorPunggung >= 50 and nomorPunggung <=100:\n",
    "        posisi += \"Berhak dipilih menjadi kapten,\"\n",
    "else:\n",
    "    posisi += \"Defender,\"\n",
    "    if nomorPunggung > 90:\n",
    "        posisi += \"Playmaker,\"\n",
    "    if nomorPunggung % 3 == 0 and nomorPunggung % 5 == 0 :\n",
    "        posisi += \"Keeper\"\n",
    "print(f\"Kamu mempunyai pilihan posisi : {posisi}\")\n",
    "    \n"
   ]
  },
  {
   "cell_type": "markdown",
   "id": "d0322897-5231-45c4-98dd-4d52b647369d",
   "metadata": {},
   "source": [
    "<h1>tugas</h1>"
   ]
  },
  {
   "cell_type": "code",
   "execution_count": 86,
   "id": "2dd920ff-2828-41b2-8ad8-1811ed76d15d",
   "metadata": {},
   "outputs": [
    {
     "name": "stdin",
     "output_type": "stream",
     "text": [
      "masukkan nilai coding 90\n",
      "masukkan nilai coding B\n"
     ]
    },
    {
     "name": "stdout",
     "output_type": "stream",
     "text": [
      "Selamat, Kamu Berhasil Menjadi Calon Progremmer\n"
     ]
    }
   ],
   "source": [
    "nilaiCoding = int(input(\"masukkan nilai coding\"))\n",
    "nilaiInterview = input(\"masukkan nilai coding\")\n",
    "hasilCoding = \"\"\n",
    "hasilInterview = \"\"\n",
    "\n",
    "if nilaiCoding > 80:\n",
    "    hasilCoding = \"lolos\"\n",
    "elif nilaiCoding > 60:\n",
    "    hasilCoding = \"dipertimbangkan\"\n",
    "else:\n",
    "    print(\"gagal\")\n",
    "\n",
    "if nilaiInterview == \"A\" or nilaiInterview == \"B\":\n",
    "    hasilInterview = \"lolos\"\n",
    "else:\n",
    "    hasilInterview = \"gagal\"\n",
    "\n",
    "if(hasilCoding  == \"lolos\" or hasilCoding == \"dipertimbangkan\") and hasilInterview == \"lolos\":\n",
    "    print(\"Selamat, Kamu Berhasil Menjadi Calon Progremmer\")\n",
    "\n",
    "else:\n",
    "    print(\"Maaf, Kamu Belum Berhasil Menjadi Calon Progremmer\")\n"
   ]
  },
  {
   "cell_type": "code",
   "execution_count": null,
   "id": "30e3e5f8-9827-4dc2-b41b-3a1a0ae641c3",
   "metadata": {},
   "outputs": [],
   "source": []
  }
 ],
 "metadata": {
  "kernelspec": {
   "display_name": "Python [conda env:base] *",
   "language": "python",
   "name": "conda-base-py"
  },
  "language_info": {
   "codemirror_mode": {
    "name": "ipython",
    "version": 3
   },
   "file_extension": ".py",
   "mimetype": "text/x-python",
   "name": "python",
   "nbconvert_exporter": "python",
   "pygments_lexer": "ipython3",
   "version": "3.12.7"
  }
 },
 "nbformat": 4,
 "nbformat_minor": 5
}
