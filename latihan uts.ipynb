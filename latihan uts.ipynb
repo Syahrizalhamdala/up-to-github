{
 "cells": [
  {
   "cell_type": "code",
   "execution_count": 6,
   "id": "a6b6f2a9-cfdc-48ce-9271-943af411a9a8",
   "metadata": {},
   "outputs": [
    {
     "name": "stdin",
     "output_type": "stream",
     "text": [
      "masukkan angka 12\n"
     ]
    },
    {
     "name": "stdout",
     "output_type": "stream",
     "text": [
      "angka 12 adalah angka spesial, karna habis bagi oleh 3\n"
     ]
    }
   ],
   "source": [
    "angka = int(input(\"masukkan angka\"))\n",
    "\n",
    "if angka >= 10 and angka <= 99:\n",
    "    digit1 = angka // 10\n",
    "    digit2 = angka % 10\n",
    "    total = digit1 + digit2\n",
    "    if angka % total == 0:\n",
    "        print(f\"angka {angka} adalah angka spesial, karna habis bagi oleh {total}\")\n",
    "    else:\n",
    "        print(f\"angka {angka} adalah angka bukan spesial, karna tidak habis di bagi oleh {total}\")\n",
    "else:\n",
    "    print(\"tolol lu, kan dua digit\")\n",
    "        \n",
    "        \n",
    "            "
   ]
  },
  {
   "cell_type": "code",
   "execution_count": null,
   "id": "91179c30-20a8-4e76-bdbe-14468a83012f",
   "metadata": {},
   "outputs": [],
   "source": []
  }
 ],
 "metadata": {
  "kernelspec": {
   "display_name": "Python [conda env:base] *",
   "language": "python",
   "name": "conda-base-py"
  },
  "language_info": {
   "codemirror_mode": {
    "name": "ipython",
    "version": 3
   },
   "file_extension": ".py",
   "mimetype": "text/x-python",
   "name": "python",
   "nbconvert_exporter": "python",
   "pygments_lexer": "ipython3",
   "version": "3.12.7"
  }
 },
 "nbformat": 4,
 "nbformat_minor": 5
}
