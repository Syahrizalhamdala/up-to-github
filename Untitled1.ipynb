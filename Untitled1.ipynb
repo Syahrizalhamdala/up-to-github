{
 "cells": [
  {
   "cell_type": "code",
   "execution_count": null,
   "id": "1902145c-7657-4198-aa9e-2f5772522d56",
   "metadata": {},
   "outputs": [],
   "source": []
  },
  {
   "cell_type": "raw",
   "id": "153931a4-359e-4d85-add3-4ee7b6b105f3",
   "metadata": {},
   "source": [
    "# Prediksi Rawat Inap Pasien IGD (Contoh Data Dummy)\n",
    "import pandas as pd\n",
    "import numpy as np\n",
    "from sklearn.ensemble import RandomForestClassifier\n",
    "from sklearn.model_selection import train_test_split\n",
    "from sklearn.metrics import classification_report, confusion_matrix\n",
    "from sklearn.preprocessing import LabelEncoder\n",
    "import matplotlib.pyplot as plt\n",
    "import seaborn as sns\n",
    "\n",
    "# Buat data dummy\n",
    "np.random.seed(42)\n",
    "data = {\n",
    "    'usia': np.random.randint(20, 80, 300),\n",
    "    'tekanan_darah': np.random.randint(90, 180, 300),\n",
    "    'nadi': np.random.randint(60, 120, 300),\n",
    "    'jenis_kasus': np.random.choice(['trauma', 'non-trauma'], 300),\n",
    "    'hari': np.random.choice(['Monday', 'Tuesday', 'Wednesday', 'Thursday', 'Friday', 'Saturday', 'Sunday'], 300),\n",
    "    'jam': np.random.randint(0, 24, 300),\n",
    "    'rawat_inap': np.random.choice([0, 1], 300, p=[0.6, 0.4])  # label target\n",
    "}\n",
    "\n",
    "# Convert ke DataFrame\n",
    "df = pd.DataFrame(data)\n",
    "\n",
    "# Encode variabel kategorikal\n",
    "le_kasus = LabelEncoder()\n",
    "le_hari = LabelEncoder()\n",
    "df['jenis_kasus'] = le_kasus.fit_transform(df['jenis_kasus'])\n",
    "df['hari'] = le_hari.fit_transform(df['hari'])\n",
    "\n",
    "# Pisahkan fitur dan target\n",
    "X = df.drop('rawat_inap', axis=1)\n",
    "y = df['rawat_inap']\n",
    "\n",
    "# Split data\n",
    "X_train, X_test, y_train, y_test = train_test_split(X, y, test_size=0.2, random_state=42)\n",
    "\n",
    "# Buat model dan latih\n",
    "model = RandomForestClassifier(random_state=42)\n",
    "model.fit(X_train, y_train)\n",
    "\n",
    "# Prediksi dan evaluasi\n",
    "y_pred = model.predict(X_test)\n",
    "print(\"\\n=== Confusion Matrix ===\")\n",
    "print(confusion_matrix(y_test, y_pred))\n",
    "print(\"\\n=== Classification Report ===\")\n",
    "print(classification_report(y_test, y_pred))\n",
    "\n",
    "# Visualisasi pentingnya fitur\n",
    "importances = model.feature_importances_\n",
    "feature_names = X.columns\n",
    "plt.figure(figsize=(8, 5))\n",
    "sns.barplot(x=importances, y=feature_names)\n",
    "plt.title(\"Feature Importance untuk Prediksi Rawat Inap\")\n",
    "plt.tight_layout()\n",
    "plt.show()\n"
   ]
  },
  {
   "cell_type": "code",
   "execution_count": null,
   "id": "1c66af9f-3588-4ad1-9314-48c695b8bb39",
   "metadata": {},
   "outputs": [],
   "source": []
  }
 ],
 "metadata": {
  "kernelspec": {
   "display_name": "Python [conda env:base] *",
   "language": "python",
   "name": "conda-base-py"
  },
  "language_info": {
   "codemirror_mode": {
    "name": "ipython",
    "version": 3
   },
   "file_extension": ".py",
   "mimetype": "text/x-python",
   "name": "python",
   "nbconvert_exporter": "python",
   "pygments_lexer": "ipython3",
   "version": "3.12.7"
  }
 },
 "nbformat": 4,
 "nbformat_minor": 5
}
