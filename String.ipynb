{
 "cells": [
  {
   "cell_type": "code",
   "execution_count": 3,
   "id": "0a4440b6-bbf0-4111-961d-b27350678a37",
   "metadata": {},
   "outputs": [
    {
     "name": "stdout",
     "output_type": "stream",
     "text": [
      "Panjang string 'Halo Aril!' adalah: 10\n"
     ]
    }
   ],
   "source": [
    "# Menghitung Panjang String\n",
    "# Contoh penggunaan\n",
    "teks = \"Halo Aril!\"\n",
    "panjang = len(teks)\n",
    "print(f\"Panjang string '{teks}' adalah: {panjang}\")\n"
   ]
  },
  {
   "cell_type": "code",
   "execution_count": 9,
   "id": "34ed6ba1-a099-4bfe-a410-6f45ff5929b1",
   "metadata": {},
   "outputs": [
    {
     "name": "stdout",
     "output_type": "stream",
     "text": [
      "Hasil penggabungan: HaloAril\n"
     ]
    }
   ],
   "source": [
    "# Menggabungkan String\n",
    "# Contoh penggunaan\n",
    "teks1 = \"Halo\"\n",
    "teks2 = \"Aril\"\n",
    "hasil = teks1 + teks2\n",
    "print(\"Hasil penggabungan:\",hasil)"
   ]
  },
  {
   "cell_type": "code",
   "execution_count": 6,
   "id": "27329fe2-ef69-4886-a118-91e8f4c2155b",
   "metadata": {},
   "outputs": [
    {
     "name": "stdout",
     "output_type": "stream",
     "text": [
      "Substring 'Menyenangkan' ditemukan pada posisi: 19\n"
     ]
    }
   ],
   "source": [
    "# Mencari Substring\n",
    "# Contoh penggunaan\n",
    "teks = \"Belajar Python Itu Menyenangkan\"\n",
    "substring = \"Menyenangkan\"\n",
    "posisi = teks.find(substring)\n",
    "if posisi != -1:\n",
    "  print(f\"Substring '{substring}' ditemukan pada posisi: {posisi}\")\n",
    "else:\n",
    "  print(f\"Substring '{substring}' tidak ditemukan\")"
   ]
  },
  {
   "cell_type": "code",
   "execution_count": 8,
   "id": "2d320a16-4c01-42f3-8ab4-73c2d5c75824",
   "metadata": {},
   "outputs": [
    {
     "name": "stdout",
     "output_type": "stream",
     "text": [
      "Hasil penggantian: Saya lebih suka memakai bahasa pemograman python\n"
     ]
    }
   ],
   "source": [
    "# Mengganti Substring\n",
    "# Contoh penggunaan\n",
    "teks = \"Saya lebih suka memakai bahasa pemograman java\"\n",
    "lama = \"java\"\n",
    "baru = \"python\"\n",
    "hasil = teks.replace(lama, baru)\n",
    "print(f\"Hasil penggantian: {hasil}\")"
   ]
  },
  {
   "cell_type": "code",
   "execution_count": 10,
   "id": "4b6913cb-218d-4f25-9d6c-3a168b8d81a3",
   "metadata": {},
   "outputs": [
    {
     "name": "stdout",
     "output_type": "stream",
     "text": [
      "Hasil pemisahan: ['apel', 'jeruk', 'mangga']\n"
     ]
    }
   ],
   "source": [
    "# Memisahkan String\n",
    "# Contoh penggunaan\n",
    "teks = \"apel,jeruk,mangga\"\n",
    "pemisah = \",\"\n",
    "hasil = teks.split(pemisah)\n",
    "print(f\"Hasil pemisahan: {hasil}\")"
   ]
  },
  {
   "cell_type": "code",
   "execution_count": 12,
   "id": "1059582c-d3da-4d5f-b91b-ccbb483b4bbd",
   "metadata": {},
   "outputs": [
    {
     "name": "stdout",
     "output_type": "stream",
     "text": [
      "Huruf kapital: HALO ARIL\n",
      "Huruf kecil: halo aril\n"
     ]
    }
   ],
   "source": [
    "# Mengubah Huruf Kapital/Kecil\n",
    "# Contoh penggunaan\n",
    "teks = \"Halo Aril\"\n",
    "kapital = teks.upper()\n",
    "kecil = teks.lower()\n",
    "print(f\"Huruf kapital: {kapital}\")\n",
    "print(f\"Huruf kecil: {kecil}\")"
   ]
  },
  {
   "cell_type": "code",
   "execution_count": null,
   "id": "92e4acb7-5ec7-4074-8eda-4b9c7a5d7593",
   "metadata": {},
   "outputs": [],
   "source": []
  }
 ],
 "metadata": {
  "kernelspec": {
   "display_name": "Python [conda env:base] *",
   "language": "python",
   "name": "conda-base-py"
  },
  "language_info": {
   "codemirror_mode": {
    "name": "ipython",
    "version": 3
   },
   "file_extension": ".py",
   "mimetype": "text/x-python",
   "name": "python",
   "nbconvert_exporter": "python",
   "pygments_lexer": "ipython3",
   "version": "3.12.7"
  }
 },
 "nbformat": 4,
 "nbformat_minor": 5
}
