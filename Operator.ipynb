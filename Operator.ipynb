{
 "cells": [
  {
   "cell_type": "markdown",
   "id": "abee7802-4f55-4269-8a0b-8e777278b184",
   "metadata": {},
   "source": [
    "<h1> operator aritmatika </h1>\n"
   ]
  },
  {
   "cell_type": "code",
   "execution_count": 5,
   "id": "578e0dc0-a607-4278-8d55-76d2d7eb5505",
   "metadata": {},
   "outputs": [
    {
     "name": "stdin",
     "output_type": "stream",
     "text": [
      "isikan nilai X: 30\n",
      "isikan nilai Y: 3\n"
     ]
    },
    {
     "name": "stdout",
     "output_type": "stream",
     "text": [
      "Hasil Penjumlahan 30 + 3 = 33\n",
      "Hasil Pengurangan 30 - 3 = 27\n",
      "Hasil Perkalian 30 * 3 = 90\n",
      "Hasil Pembagian 30 / 3 = 10.0\n",
      "Hasil Modulus 30 % 3 = 0\n",
      "Hasil Pangkat 30 ** 3 = 27000\n",
      "Hasil Pembagian bulat 30 // 3 = 10\n"
     ]
    }
   ],
   "source": [
    "x = input(\"isikan nilai X:\")\n",
    "y = input(\"isikan nilai Y:\")\n",
    "x = int(x)\n",
    "y = int(y)\n",
    "\n",
    "\n",
    "hasilTambah = x + y\n",
    "hasilKurang = x - y\n",
    "hasilKali = x * y\n",
    "hasilBagi = x / y\n",
    "hasilMod = x % y\n",
    "hasilPangkat = x ** y\n",
    "hasilDiv = x // y\n",
    "\n",
    "print(\"Hasil Penjumlahan\",x, \"+\",y,\"=\",hasilTambah)\n",
    "print(\"Hasil Pengurangan\",x, \"-\",y,\"=\",hasilKurang)\n",
    "print(\"Hasil Perkalian\",x, \"*\",y,\"=\",hasilKali)\n",
    "print(\"Hasil Pembagian\",x, \"/\",y,\"=\",hasilBagi)\n",
    "print(\"Hasil Modulus\",x, \"%\",y,\"=\",hasilMod)\n",
    "print(\"Hasil Pangkat\",x, \"**\",y,\"=\",hasilPangkat)\n",
    "print(\"Hasil Pembagian bulat\",x, \"//\",y,\"=\",hasilDiv)\n",
    "print(\"Hasil Pembagian bulat\",x, \"//\",y,\"=\",hasilDiv)\n",
    "\n"
   ]
  },
  {
   "cell_type": "markdown",
   "id": "263ac5f1-0d4d-46ac-af6a-dfd838585ee5",
   "metadata": {},
   "source": [
    "<h1>Operator Penugasan</h1>"
   ]
  },
  {
   "cell_type": "code",
   "execution_count": 20,
   "id": "568ec4d6-3d90-4491-90da-ff13e88fd195",
   "metadata": {},
   "outputs": [
    {
     "name": "stdin",
     "output_type": "stream",
     "text": [
      "Isikan Nilai awal: 5\n"
     ]
    },
    {
     "name": "stdout",
     "output_type": "stream",
     "text": [
      "Nilai awal :  5\n",
      "setelah di tambah 3= 8\n",
      "kemudian di kurang dengan 5= 3\n",
      "selanjutnya di kali dengan 3= 9\n",
      "proses terakhir dibagi dengan 2= 4.5\n"
     ]
    }
   ],
   "source": [
    "nilaiAwal = int(input(\"Isikan Nilai awal:\"))\n",
    "\n",
    "print(\"Nilai awal : \",nilaiAwal)\n",
    "nilaiAwal +=3\n",
    "print(\"setelah di tambah 3=\",nilaiAwal)\n",
    "nilaiAwal-=5\n",
    "print(\"kemudian di kurang dengan 5=\",nilaiAwal)\n",
    "nilaiAwal*=3\n",
    "print(\"selanjutnya di kali dengan 3=\",nilaiAwal)\n",
    "nilaiAwal/=2\n",
    "print(\"proses terakhir dibagi dengan 2=\",nilaiAwal)\n",
    "\n"
   ]
  },
  {
   "cell_type": "markdown",
   "id": "c1c0456e-4a5e-4a12-93dd-1539596777d6",
   "metadata": {},
   "source": [
    "<h1>Operator Perbandingan</h1>"
   ]
  },
  {
   "cell_type": "code",
   "execution_count": 23,
   "id": "c1199920-9915-478a-9816-ecea69f712ab",
   "metadata": {},
   "outputs": [
    {
     "name": "stdin",
     "output_type": "stream",
     "text": [
      "Isikan Nilai fVal: 3\n",
      "Isikan Nilai sVal: 4\n"
     ]
    },
    {
     "name": "stdout",
     "output_type": "stream",
     "text": [
      "3 = 4 False\n",
      "3 != 4 True\n",
      "3 > 4 False\n",
      "3 < 4 True\n",
      "3 <= 4 True\n",
      "3 >= 4 False\n"
     ]
    }
   ],
   "source": [
    "fVal = int(input(\"Isikan Nilai fVal:\"))\n",
    "sVal = int(input(\"Isikan Nilai sVal:\"))\n",
    "\n",
    "print (fVal,\"=\",sVal,fVal==sVal)\n",
    "print (fVal,\"!=\",sVal,fVal!=sVal)\n",
    "print (fVal,\">\",sVal,fVal>sVal)\n",
    "print (fVal,\"<\",sVal,fVal<sVal)\n",
    "print (fVal,\"<=\",sVal,fVal<=sVal)\n",
    "print (fVal,\">=\",sVal,fVal>=sVal)"
   ]
  },
  {
   "cell_type": "markdown",
   "id": "4a3c17fe-9693-415c-aa1b-d1a08f7f8d75",
   "metadata": {},
   "source": [
    "<h1>Operator Logika</h1>"
   ]
  },
  {
   "cell_type": "code",
   "execution_count": 34,
   "id": "a6c3083d-4ebd-4e19-b3a9-9e69ffc99c7f",
   "metadata": {},
   "outputs": [
    {
     "name": "stdin",
     "output_type": "stream",
     "text": [
      "isikan bilangan 1 : 4\n",
      "isikan bilangan 2 : 1\n"
     ]
    },
    {
     "name": "stdout",
     "output_type": "stream",
     "text": [
      "bilangan 1: 4\n",
      "bilangan 2: 1\n",
      "Apakah Bilangan 1 mod 2 = 0 dan Bilangan 2 Lebih Besar Dari 3? False\n",
      "Apakah Bilangan 1 mod 2 = 0 atau Bilangan 2 Lebih Besar Dari 3? True\n",
      "Apakah Bilangan 1 mod 2 = 0 kebalikan dari atau Bilangan 2 Lebih Besar Dari 3? False\n"
     ]
    }
   ],
   "source": [
    "num_1 = int(input(\"isikan bilangan 1 :\"))\n",
    "num_2 = int(input(\"isikan bilangan 2 :\"))\n",
    "\n",
    "print(\"bilangan 1:\",num_1)\n",
    "print(\"bilangan 2:\",num_2)\n",
    "\n",
    "print(\"Apakah Bilangan 1 mod 2 = 0 dan Bilangan 2 Lebih Besar Dari 3?\",num_1 % 2==0 and num_2 > 3)\n",
    "print(\"Apakah Bilangan 1 mod 2 = 0 atau Bilangan 2 Lebih Besar Dari 3?\",num_1 % 2==0 or num_2 > 3)\n",
    "print(\"Apakah Bilangan 1 mod 2 = 0 kebalikan dari atau Bilangan 2 Lebih Besar Dari 3?\",not(num_1 % 2==0 or num_2 > 3))"
   ]
  },
  {
   "cell_type": "markdown",
   "id": "4531ed8b-f46b-48d8-a26a-6ef54fc6d734",
   "metadata": {},
   "source": [
    "<h1>Operator Identitas</h1>"
   ]
  },
  {
   "cell_type": "code",
   "execution_count": 39,
   "id": "48e2dc5b-e1ac-4d5a-ab29-542cad7edf19",
   "metadata": {},
   "outputs": [
    {
     "name": "stdout",
     "output_type": "stream",
     "text": [
      "True\n",
      "False\n",
      "True\n",
      "Memory Address dari val1: 4381808496\n",
      "Memory Address dari val2: 4377157680\n",
      "Memory Address dari val3: 4377157680\n"
     ]
    },
    {
     "name": "stderr",
     "output_type": "stream",
     "text": [
      "<>:1: SyntaxWarning: \"is\" with 'str' literal. Did you mean \"==\"?\n",
      "<>:1: SyntaxWarning: \"is\" with 'str' literal. Did you mean \"==\"?\n",
      "/var/folders/5w/k214r4993xl3wzxjph7c5hnc0000gn/T/ipykernel_87408/1936287455.py:1: SyntaxWarning: \"is\" with 'str' literal. Did you mean \"==\"?\n",
      "  print(\"aril\" is \"aril\")\n"
     ]
    }
   ],
   "source": [
    "print(\"aril\" is \"aril\")\n",
    "val1 = \"10\"\n",
    "val2 = 10\n",
    "val3 = val2\n",
    "print(val1 is val2)\n",
    "print(val1 is not val2)\n",
    "\n",
    "print(\"Memory Address dari val1:\",id(val1))\n",
    "print(\"Memory Address dari val2:\",id(val2))\n",
    "print(\"Memory Address dari val3:\",id(val3))"
   ]
  },
  {
   "cell_type": "markdown",
   "id": "94944428-4382-4225-8673-ecc7e52ea219",
   "metadata": {},
   "source": [
    "<h1>Operator Keanggotaan</h1>"
   ]
  },
  {
   "cell_type": "code",
   "execution_count": 48,
   "id": "ca47b09c-e4fe-4f4e-b2ff-da3a912434cb",
   "metadata": {},
   "outputs": [
    {
     "name": "stdout",
     "output_type": "stream",
     "text": [
      "True\n",
      "False\n"
     ]
    }
   ],
   "source": [
    "find = \"aril\"\n",
    "daftarMahasiswa = [\"aco\",\"jojo\",\"rafi\",\"aril\"]\n",
    "\n",
    "print(find in daftarMahasiswa)\n",
    "print(find not in daftarMahasiswa)\n"
   ]
  },
  {
   "cell_type": "markdown",
   "id": "61ab6887-b837-4f43-a7a8-d6647270a529",
   "metadata": {},
   "source": [
    "<h1>Operator Bitwise</h1>"
   ]
  },
  {
   "cell_type": "code",
   "execution_count": 51,
   "id": "bda07b91-1625-4761-95be-0c8b18017c80",
   "metadata": {},
   "outputs": [
    {
     "name": "stdin",
     "output_type": "stream",
     "text": [
      "isikan Nilai 1: 64\n",
      "isikan Nilai 2: 3\n"
     ]
    },
    {
     "name": "stdout",
     "output_type": "stream",
     "text": [
      "0\n",
      "67\n",
      "67\n",
      "512\n",
      "8\n"
     ]
    }
   ],
   "source": [
    "desimal1 = int(input(\"isikan Nilai 1:\"))\n",
    "desimal2 = int(input(\"isikan Nilai 2:\"))\n",
    "\n",
    "print(desimal1 & desimal2)\n",
    "print(desimal1 | desimal2)\n",
    "print(desimal1 ^ desimal2)\n",
    "print(desimal1 << desimal2)\n",
    "print(desimal1 >> desimal2)\n"
   ]
  },
  {
   "cell_type": "code",
   "execution_count": 53,
   "id": "ac8cfb5d-8f0e-486c-aea8-73b473353dad",
   "metadata": {},
   "outputs": [
    {
     "name": "stdout",
     "output_type": "stream",
     "text": [
      "2.0\n"
     ]
    }
   ],
   "source": [
    "x = 4.5\n",
    "\n",
    "y = 2\n",
    "\n",
    "print(x//y)"
   ]
  }
 ],
 "metadata": {
  "kernelspec": {
   "display_name": "Python [conda env:base] *",
   "language": "python",
   "name": "conda-base-py"
  },
  "language_info": {
   "codemirror_mode": {
    "name": "ipython",
    "version": 3
   },
   "file_extension": ".py",
   "mimetype": "text/x-python",
   "name": "python",
   "nbconvert_exporter": "python",
   "pygments_lexer": "ipython3",
   "version": "3.12.7"
  }
 },
 "nbformat": 4,
 "nbformat_minor": 5
}
